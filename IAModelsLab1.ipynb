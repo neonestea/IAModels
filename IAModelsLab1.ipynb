{
  "nbformat": 4,
  "nbformat_minor": 0,
  "metadata": {
    "colab": {
      "provenance": []
    },
    "kernelspec": {
      "name": "python3",
      "display_name": "Python 3"
    },
    "language_info": {
      "name": "python"
    }
  },
  "cells": [
    {
      "cell_type": "code",
      "execution_count": 3,
      "metadata": {
        "colab": {
          "base_uri": "https://localhost:8080/"
        },
        "id": "CD4L8bfjSJLw",
        "outputId": "92eb1bfc-caef-4d2c-af8b-88c7a8f23dba"
      },
      "outputs": [
        {
          "output_type": "stream",
          "name": "stderr",
          "text": [
            "<ipython-input-3-bee16f050b19>:7: MatplotlibDeprecationWarning: The seaborn styles shipped by Matplotlib are deprecated since 3.6, as they no longer correspond to the styles shipped by seaborn. However, they will remain available as 'seaborn-v0_8-<style>'. Alternatively, directly use the seaborn API instead.\n",
            "  plt.style.use('seaborn-white')\n"
          ]
        }
      ],
      "source": [
        "import os\n",
        "\n",
        "import numpy as np\n",
        "import pandas as pd\n",
        "import matplotlib as mpl\n",
        "import matplotlib.pyplot as plt\n",
        "plt.style.use('seaborn-white')\n",
        "\n",
        "%matplotlib inline\n",
        "\n",
        "from scipy.stats import gamma, poisson\n",
        "from typing import Optional, List, Iterable\n",
        "from datetime import date\n",
        "from datetime import timedelta\n",
        "from scipy.special import gammaincinv"
      ]
    },
    {
      "cell_type": "markdown",
      "source": [
        "#Data"
      ],
      "metadata": {
        "id": "q_EFxPoyj8L-"
      }
    },
    {
      "cell_type": "code",
      "source": [
        "df = pd.read_csv('owid-covid-data.csv', parse_dates=['date'])"
      ],
      "metadata": {
        "id": "7LYSGkKvTW00"
      },
      "execution_count": 72,
      "outputs": []
    },
    {
      "cell_type": "code",
      "source": [
        "df.head()"
      ],
      "metadata": {
        "colab": {
          "base_uri": "https://localhost:8080/",
          "height": 386
        },
        "id": "QwmddEdkVTUL",
        "outputId": "ca3c6471-2af8-4298-d2e3-51fa9cba6306"
      },
      "execution_count": 73,
      "outputs": [
        {
          "output_type": "execute_result",
          "data": {
            "text/plain": [
              "  iso_code continent     location       date  total_cases  new_cases  \\\n",
              "0      AFG      Asia  Afghanistan 2020-02-24          5.0        5.0   \n",
              "1      AFG      Asia  Afghanistan 2020-02-25          5.0        0.0   \n",
              "2      AFG      Asia  Afghanistan 2020-02-26          5.0        0.0   \n",
              "3      AFG      Asia  Afghanistan 2020-02-27          5.0        0.0   \n",
              "4      AFG      Asia  Afghanistan 2020-02-28          5.0        0.0   \n",
              "\n",
              "   new_cases_smoothed  total_deaths  new_deaths  new_deaths_smoothed  ...  \\\n",
              "0                 NaN           NaN         NaN                  NaN  ...   \n",
              "1                 NaN           NaN         NaN                  NaN  ...   \n",
              "2                 NaN           NaN         NaN                  NaN  ...   \n",
              "3                 NaN           NaN         NaN                  NaN  ...   \n",
              "4                 NaN           NaN         NaN                  NaN  ...   \n",
              "\n",
              "   female_smokers  male_smokers  handwashing_facilities  \\\n",
              "0             NaN           NaN                  37.746   \n",
              "1             NaN           NaN                  37.746   \n",
              "2             NaN           NaN                  37.746   \n",
              "3             NaN           NaN                  37.746   \n",
              "4             NaN           NaN                  37.746   \n",
              "\n",
              "   hospital_beds_per_thousand  life_expectancy  human_development_index  \\\n",
              "0                         0.5            64.83                    0.511   \n",
              "1                         0.5            64.83                    0.511   \n",
              "2                         0.5            64.83                    0.511   \n",
              "3                         0.5            64.83                    0.511   \n",
              "4                         0.5            64.83                    0.511   \n",
              "\n",
              "   excess_mortality_cumulative_absolute  excess_mortality_cumulative  \\\n",
              "0                                   NaN                          NaN   \n",
              "1                                   NaN                          NaN   \n",
              "2                                   NaN                          NaN   \n",
              "3                                   NaN                          NaN   \n",
              "4                                   NaN                          NaN   \n",
              "\n",
              "   excess_mortality  excess_mortality_cumulative_per_million  \n",
              "0               NaN                                      NaN  \n",
              "1               NaN                                      NaN  \n",
              "2               NaN                                      NaN  \n",
              "3               NaN                                      NaN  \n",
              "4               NaN                                      NaN  \n",
              "\n",
              "[5 rows x 67 columns]"
            ],
            "text/html": [
              "\n",
              "  <div id=\"df-b111eafa-273a-4e4c-891d-0099731e4c65\">\n",
              "    <div class=\"colab-df-container\">\n",
              "      <div>\n",
              "<style scoped>\n",
              "    .dataframe tbody tr th:only-of-type {\n",
              "        vertical-align: middle;\n",
              "    }\n",
              "\n",
              "    .dataframe tbody tr th {\n",
              "        vertical-align: top;\n",
              "    }\n",
              "\n",
              "    .dataframe thead th {\n",
              "        text-align: right;\n",
              "    }\n",
              "</style>\n",
              "<table border=\"1\" class=\"dataframe\">\n",
              "  <thead>\n",
              "    <tr style=\"text-align: right;\">\n",
              "      <th></th>\n",
              "      <th>iso_code</th>\n",
              "      <th>continent</th>\n",
              "      <th>location</th>\n",
              "      <th>date</th>\n",
              "      <th>total_cases</th>\n",
              "      <th>new_cases</th>\n",
              "      <th>new_cases_smoothed</th>\n",
              "      <th>total_deaths</th>\n",
              "      <th>new_deaths</th>\n",
              "      <th>new_deaths_smoothed</th>\n",
              "      <th>...</th>\n",
              "      <th>female_smokers</th>\n",
              "      <th>male_smokers</th>\n",
              "      <th>handwashing_facilities</th>\n",
              "      <th>hospital_beds_per_thousand</th>\n",
              "      <th>life_expectancy</th>\n",
              "      <th>human_development_index</th>\n",
              "      <th>excess_mortality_cumulative_absolute</th>\n",
              "      <th>excess_mortality_cumulative</th>\n",
              "      <th>excess_mortality</th>\n",
              "      <th>excess_mortality_cumulative_per_million</th>\n",
              "    </tr>\n",
              "  </thead>\n",
              "  <tbody>\n",
              "    <tr>\n",
              "      <th>0</th>\n",
              "      <td>AFG</td>\n",
              "      <td>Asia</td>\n",
              "      <td>Afghanistan</td>\n",
              "      <td>2020-02-24</td>\n",
              "      <td>5.0</td>\n",
              "      <td>5.0</td>\n",
              "      <td>NaN</td>\n",
              "      <td>NaN</td>\n",
              "      <td>NaN</td>\n",
              "      <td>NaN</td>\n",
              "      <td>...</td>\n",
              "      <td>NaN</td>\n",
              "      <td>NaN</td>\n",
              "      <td>37.746</td>\n",
              "      <td>0.5</td>\n",
              "      <td>64.83</td>\n",
              "      <td>0.511</td>\n",
              "      <td>NaN</td>\n",
              "      <td>NaN</td>\n",
              "      <td>NaN</td>\n",
              "      <td>NaN</td>\n",
              "    </tr>\n",
              "    <tr>\n",
              "      <th>1</th>\n",
              "      <td>AFG</td>\n",
              "      <td>Asia</td>\n",
              "      <td>Afghanistan</td>\n",
              "      <td>2020-02-25</td>\n",
              "      <td>5.0</td>\n",
              "      <td>0.0</td>\n",
              "      <td>NaN</td>\n",
              "      <td>NaN</td>\n",
              "      <td>NaN</td>\n",
              "      <td>NaN</td>\n",
              "      <td>...</td>\n",
              "      <td>NaN</td>\n",
              "      <td>NaN</td>\n",
              "      <td>37.746</td>\n",
              "      <td>0.5</td>\n",
              "      <td>64.83</td>\n",
              "      <td>0.511</td>\n",
              "      <td>NaN</td>\n",
              "      <td>NaN</td>\n",
              "      <td>NaN</td>\n",
              "      <td>NaN</td>\n",
              "    </tr>\n",
              "    <tr>\n",
              "      <th>2</th>\n",
              "      <td>AFG</td>\n",
              "      <td>Asia</td>\n",
              "      <td>Afghanistan</td>\n",
              "      <td>2020-02-26</td>\n",
              "      <td>5.0</td>\n",
              "      <td>0.0</td>\n",
              "      <td>NaN</td>\n",
              "      <td>NaN</td>\n",
              "      <td>NaN</td>\n",
              "      <td>NaN</td>\n",
              "      <td>...</td>\n",
              "      <td>NaN</td>\n",
              "      <td>NaN</td>\n",
              "      <td>37.746</td>\n",
              "      <td>0.5</td>\n",
              "      <td>64.83</td>\n",
              "      <td>0.511</td>\n",
              "      <td>NaN</td>\n",
              "      <td>NaN</td>\n",
              "      <td>NaN</td>\n",
              "      <td>NaN</td>\n",
              "    </tr>\n",
              "    <tr>\n",
              "      <th>3</th>\n",
              "      <td>AFG</td>\n",
              "      <td>Asia</td>\n",
              "      <td>Afghanistan</td>\n",
              "      <td>2020-02-27</td>\n",
              "      <td>5.0</td>\n",
              "      <td>0.0</td>\n",
              "      <td>NaN</td>\n",
              "      <td>NaN</td>\n",
              "      <td>NaN</td>\n",
              "      <td>NaN</td>\n",
              "      <td>...</td>\n",
              "      <td>NaN</td>\n",
              "      <td>NaN</td>\n",
              "      <td>37.746</td>\n",
              "      <td>0.5</td>\n",
              "      <td>64.83</td>\n",
              "      <td>0.511</td>\n",
              "      <td>NaN</td>\n",
              "      <td>NaN</td>\n",
              "      <td>NaN</td>\n",
              "      <td>NaN</td>\n",
              "    </tr>\n",
              "    <tr>\n",
              "      <th>4</th>\n",
              "      <td>AFG</td>\n",
              "      <td>Asia</td>\n",
              "      <td>Afghanistan</td>\n",
              "      <td>2020-02-28</td>\n",
              "      <td>5.0</td>\n",
              "      <td>0.0</td>\n",
              "      <td>NaN</td>\n",
              "      <td>NaN</td>\n",
              "      <td>NaN</td>\n",
              "      <td>NaN</td>\n",
              "      <td>...</td>\n",
              "      <td>NaN</td>\n",
              "      <td>NaN</td>\n",
              "      <td>37.746</td>\n",
              "      <td>0.5</td>\n",
              "      <td>64.83</td>\n",
              "      <td>0.511</td>\n",
              "      <td>NaN</td>\n",
              "      <td>NaN</td>\n",
              "      <td>NaN</td>\n",
              "      <td>NaN</td>\n",
              "    </tr>\n",
              "  </tbody>\n",
              "</table>\n",
              "<p>5 rows × 67 columns</p>\n",
              "</div>\n",
              "      <button class=\"colab-df-convert\" onclick=\"convertToInteractive('df-b111eafa-273a-4e4c-891d-0099731e4c65')\"\n",
              "              title=\"Convert this dataframe to an interactive table.\"\n",
              "              style=\"display:none;\">\n",
              "        \n",
              "  <svg xmlns=\"http://www.w3.org/2000/svg\" height=\"24px\"viewBox=\"0 0 24 24\"\n",
              "       width=\"24px\">\n",
              "    <path d=\"M0 0h24v24H0V0z\" fill=\"none\"/>\n",
              "    <path d=\"M18.56 5.44l.94 2.06.94-2.06 2.06-.94-2.06-.94-.94-2.06-.94 2.06-2.06.94zm-11 1L8.5 8.5l.94-2.06 2.06-.94-2.06-.94L8.5 2.5l-.94 2.06-2.06.94zm10 10l.94 2.06.94-2.06 2.06-.94-2.06-.94-.94-2.06-.94 2.06-2.06.94z\"/><path d=\"M17.41 7.96l-1.37-1.37c-.4-.4-.92-.59-1.43-.59-.52 0-1.04.2-1.43.59L10.3 9.45l-7.72 7.72c-.78.78-.78 2.05 0 2.83L4 21.41c.39.39.9.59 1.41.59.51 0 1.02-.2 1.41-.59l7.78-7.78 2.81-2.81c.8-.78.8-2.07 0-2.86zM5.41 20L4 18.59l7.72-7.72 1.47 1.35L5.41 20z\"/>\n",
              "  </svg>\n",
              "      </button>\n",
              "      \n",
              "  <style>\n",
              "    .colab-df-container {\n",
              "      display:flex;\n",
              "      flex-wrap:wrap;\n",
              "      gap: 12px;\n",
              "    }\n",
              "\n",
              "    .colab-df-convert {\n",
              "      background-color: #E8F0FE;\n",
              "      border: none;\n",
              "      border-radius: 50%;\n",
              "      cursor: pointer;\n",
              "      display: none;\n",
              "      fill: #1967D2;\n",
              "      height: 32px;\n",
              "      padding: 0 0 0 0;\n",
              "      width: 32px;\n",
              "    }\n",
              "\n",
              "    .colab-df-convert:hover {\n",
              "      background-color: #E2EBFA;\n",
              "      box-shadow: 0px 1px 2px rgba(60, 64, 67, 0.3), 0px 1px 3px 1px rgba(60, 64, 67, 0.15);\n",
              "      fill: #174EA6;\n",
              "    }\n",
              "\n",
              "    [theme=dark] .colab-df-convert {\n",
              "      background-color: #3B4455;\n",
              "      fill: #D2E3FC;\n",
              "    }\n",
              "\n",
              "    [theme=dark] .colab-df-convert:hover {\n",
              "      background-color: #434B5C;\n",
              "      box-shadow: 0px 1px 3px 1px rgba(0, 0, 0, 0.15);\n",
              "      filter: drop-shadow(0px 1px 2px rgba(0, 0, 0, 0.3));\n",
              "      fill: #FFFFFF;\n",
              "    }\n",
              "  </style>\n",
              "\n",
              "      <script>\n",
              "        const buttonEl =\n",
              "          document.querySelector('#df-b111eafa-273a-4e4c-891d-0099731e4c65 button.colab-df-convert');\n",
              "        buttonEl.style.display =\n",
              "          google.colab.kernel.accessAllowed ? 'block' : 'none';\n",
              "\n",
              "        async function convertToInteractive(key) {\n",
              "          const element = document.querySelector('#df-b111eafa-273a-4e4c-891d-0099731e4c65');\n",
              "          const dataTable =\n",
              "            await google.colab.kernel.invokeFunction('convertToInteractive',\n",
              "                                                     [key], {});\n",
              "          if (!dataTable) return;\n",
              "\n",
              "          const docLinkHtml = 'Like what you see? Visit the ' +\n",
              "            '<a target=\"_blank\" href=https://colab.research.google.com/notebooks/data_table.ipynb>data table notebook</a>'\n",
              "            + ' to learn more about interactive tables.';\n",
              "          element.innerHTML = '';\n",
              "          dataTable['output_type'] = 'display_data';\n",
              "          await google.colab.output.renderOutput(dataTable, element);\n",
              "          const docLink = document.createElement('div');\n",
              "          docLink.innerHTML = docLinkHtml;\n",
              "          element.appendChild(docLink);\n",
              "        }\n",
              "      </script>\n",
              "    </div>\n",
              "  </div>\n",
              "  "
            ]
          },
          "metadata": {},
          "execution_count": 73
        }
      ]
    },
    {
      "cell_type": "code",
      "source": [
        "import numpy as np\n",
        "\n",
        "from scipy.stats import gamma\n",
        "from scipy.stats import rv_continuous"
      ],
      "metadata": {
        "id": "MlhgRPnzVOia"
      },
      "execution_count": 79,
      "outputs": []
    },
    {
      "cell_type": "markdown",
      "source": [
        "Гамма распределение"
      ],
      "metadata": {
        "id": "Qzry2UfBsWYx"
      }
    },
    {
      "cell_type": "code",
      "source": [
        "def discretise_gamma(a: float, scale: float, loc: float = 0) -> np.ndarray:\n",
        "    return discrete_distrb(gamma(a=a, scale=scale, loc=loc))\n",
        "\n",
        "\n",
        "def discrete_distrb(distrb: rv_continuous) -> np.ndarray:\n",
        "    upper_lim = np.ceil(distrb.ppf(1 - 1e-6))\n",
        "    bin_lims = np.linspace(0.5, upper_lim + 0.5, int(upper_lim + 1))\n",
        "    cdf = distrb.cdf(bin_lims)\n",
        "    pmf = np.diff(cdf, prepend=0)\n",
        "\n",
        "    return pmf / pmf.sum()"
      ],
      "metadata": {
        "id": "6Sp2jPY2VLLA"
      },
      "execution_count": 80,
      "outputs": []
    },
    {
      "cell_type": "markdown",
      "source": [
        "Распределение генерационных интервалов"
      ],
      "metadata": {
        "id": "uq5V-6LekEAN"
      }
    },
    {
      "cell_type": "code",
      "source": [
        "def generate_standard_si_distribution():\n",
        "    return discretise_gamma(2.6, scale=0.4)"
      ],
      "metadata": {
        "id": "kEe1Ck0iU6sf"
      },
      "execution_count": 81,
      "outputs": []
    },
    {
      "cell_type": "markdown",
      "source": [
        "Распределение инкубационных периодов"
      ],
      "metadata": {
        "id": "36CF0_WckF0Z"
      }
    },
    {
      "cell_type": "code",
      "source": [
        "def generate_standard_incubation_time_distribution():\n",
        "    return discretise_gamma(1.352, scale=0.265)"
      ],
      "metadata": {
        "id": "qN69FOuyXyP-"
      },
      "execution_count": 82,
      "outputs": []
    },
    {
      "cell_type": "code",
      "source": [
        "from scipy.stats import nbinom"
      ],
      "metadata": {
        "id": "SWBcLtEXYNYv"
      },
      "execution_count": 83,
      "outputs": []
    },
    {
      "cell_type": "markdown",
      "source": [
        "Негативное биномиальное распределение"
      ],
      "metadata": {
        "id": "-38undfOmUiz"
      }
    },
    {
      "cell_type": "code",
      "source": [
        "def generate_onset_to_reporting_distribution_brauner():\n",
        "    mu = 5.25\n",
        "    alpha = 1.57\n",
        "    distrb = nbinom(n=1/alpha, p=1-alpha*mu/(1+alpha*mu))\n",
        "    x = range(int(distrb.ppf(1 - 1e-6)))\n",
        "    return distrb.pmf(x)\n"
      ],
      "metadata": {
        "id": "12JwWZh_YJxY"
      },
      "execution_count": 84,
      "outputs": []
    },
    {
      "cell_type": "markdown",
      "source": [
        "Распределение задержек"
      ],
      "metadata": {
        "id": "z1XBsAYWonow"
      }
    },
    {
      "cell_type": "code",
      "source": [
        "def generate_standard_infection_to_reporting_distribution():\n",
        "    return np.convolve(generate_standard_incubation_time_distribution(),\n",
        "                       generate_onset_to_reporting_distribution_brauner())"
      ],
      "metadata": {
        "id": "jmhu1M3TU8u7"
      },
      "execution_count": 85,
      "outputs": []
    },
    {
      "cell_type": "markdown",
      "source": [
        "Получаем наши распределения"
      ],
      "metadata": {
        "id": "_Ymltei5n9iE"
      }
    },
    {
      "cell_type": "code",
      "source": [
        "si_distrb = generate_standard_si_distribution()\n",
        "delay_distrb = generate_standard_infection_to_reporting_distribution()"
      ],
      "metadata": {
        "id": "2_1ZzSwUS08c"
      },
      "execution_count": 149,
      "outputs": []
    },
    {
      "cell_type": "markdown",
      "source": [
        "Определяем начальную дату надежной R-оценки"
      ],
      "metadata": {
        "id": "SjLusIrYsmO2"
      }
    },
    {
      "cell_type": "code",
      "source": [
        "def start_date(\n",
        "        confirmed_cases: pd.Series,\n",
        "        gt_distribution: np.ndarray,\n",
        "        r_window_size: Optional[int] = None,\n",
        ") -> date:\n",
        "    cumulative_cases = confirmed_cases.cumsum()\n",
        "    over_dozen_cases_date = cumulative_cases.ge(12).idxmax()\n",
        "    index_case_date = confirmed_cases.ne(0).idxmax()\n",
        "    mean_gt = gt_distribution @ np.arange(len(gt_distribution)) / gt_distribution.sum()\n",
        "\n",
        "    r_window_size = r_window_size if isinstance(r_window_size, int) else 0\n",
        "\n",
        "    condition1_date = over_dozen_cases_date\n",
        "    condition2_date = index_case_date + timedelta(days=np.ceil(mean_gt))\n",
        "    condition3_date = index_case_date + timedelta(days=r_window_size)\n",
        "\n",
        "    first_true_date = max(condition1_date, condition2_date, condition3_date)\n",
        "\n",
        "    return first_true_date"
      ],
      "metadata": {
        "id": "1zZxVFqxbXBi"
      },
      "execution_count": 96,
      "outputs": []
    },
    {
      "cell_type": "markdown",
      "source": [
        "Определяем конечную дату"
      ],
      "metadata": {
        "id": "b8BmtWOosvWV"
      }
    },
    {
      "cell_type": "code",
      "source": [
        "def end_date(confirmed_cases: pd.Series, delay_distribution: np.ndarray) -> date:\n",
        "    delay_mean = delay_distribution.dot(np.arange(len(delay_distribution)))\n",
        "    return confirmed_cases.index[-1] - timedelta(days=int(delay_mean))"
      ],
      "metadata": {
        "id": "6y13g49csukg"
      },
      "execution_count": null,
      "outputs": []
    },
    {
      "cell_type": "code",
      "source": [
        "import warnings"
      ],
      "metadata": {
        "id": "xS18BhiqbacT"
      },
      "execution_count": 97,
      "outputs": []
    },
    {
      "cell_type": "markdown",
      "source": [
        "Разыгрываем временной ряд той же длины, что и исходный"
      ],
      "metadata": {
        "id": "RfW0PrsgnzUI"
      }
    },
    {
      "cell_type": "code",
      "source": [
        "def bootstrap_series(ser: pd.Series) -> pd.Series:\n",
        "    resampled = np.random.multinomial(ser.sum(), ser / ser.sum())\n",
        "    return pd.Series(resampled, index=ser.index)"
      ],
      "metadata": {
        "id": "FwOOkDQzbpwA"
      },
      "execution_count": 114,
      "outputs": []
    },
    {
      "cell_type": "markdown",
      "source": [
        "Нормировка ряда (учитываем длины)"
      ],
      "metadata": {
        "id": "uCIJkyLbnq2p"
      }
    },
    {
      "cell_type": "code",
      "source": [
        "def renormalise_series(ser: pd.Series, reference_ser: pd.Series) -> pd.Series:\n",
        "    assert len(ser.index) == len(reference_ser.index), \\\n",
        "        'length of series to be renormalised does not match length of reference series'\n",
        "\n",
        "    ser[ser < 0] = 0\n",
        "\n",
        "    norm_ser = ser.sum()\n",
        "    norm_ref_ser = reference_ser.sum()\n",
        "\n",
        "    ser = ser * norm_ref_ser / norm_ser\n",
        "\n",
        "    return ser"
      ],
      "metadata": {
        "id": "SKp6saTkb3j4"
      },
      "execution_count": 100,
      "outputs": []
    },
    {
      "cell_type": "code",
      "source": [
        "from statsmodels.nonparametric.smoothers_lowess import lowess"
      ],
      "metadata": {
        "id": "CPU5eRuzb68z"
      },
      "execution_count": 101,
      "outputs": []
    },
    {
      "cell_type": "markdown",
      "source": [
        "Сглаживание ряда"
      ],
      "metadata": {
        "id": "X9hjOyZQnglg"
      }
    },
    {
      "cell_type": "code",
      "source": [
        "def smoothen_series(ser: pd.Series, window_width: int) -> pd.Series:\n",
        "    if window_width != 1:\n",
        "        if window_width % 7 != 0:\n",
        "            warnings.warn('window_width is recommended to be a multiple of 7 to account for weekly patterns.')\n",
        "\n",
        "    endog = ser.values\n",
        "    exog = np.array(range(len(ser)))\n",
        "    frac = window_width / len(exog)\n",
        "\n",
        "    smooth = lowess(endog=endog, exog=exog, frac=frac, it=0, delta=0.0, is_sorted=True, missing='raise',\n",
        "                    return_sorted=False)\n",
        "    smooth_ser = pd.Series(smooth, index=ser.index)\n",
        "    smooth_ser = renormalise_series(smooth_ser, ser)\n",
        "\n",
        "    return smooth_ser"
      ],
      "metadata": {
        "id": "anlR0gvsbueo"
      },
      "execution_count": 102,
      "outputs": []
    },
    {
      "cell_type": "code",
      "source": [
        "import datetime as dt"
      ],
      "metadata": {
        "id": "6MdYthsjcCUP"
      },
      "execution_count": 104,
      "outputs": []
    },
    {
      "cell_type": "markdown",
      "source": [
        "Сдвиг ряда зарегистрированных случаев (смотрим в прошлое)"
      ],
      "metadata": {
        "id": "v2VVk4_TnP07"
      }
    },
    {
      "cell_type": "markdown",
      "source": [
        "delay_distrb[j] = вероятность того, что человек заболел j дней назад"
      ],
      "metadata": {
        "id": "mVYXU4j6nb0p"
      }
    },
    {
      "cell_type": "code",
      "source": [
        "def shift_and_pad(ser: pd.Series, delay_distrb: np.ndarray) -> pd.Series:\n",
        "    assert not (delay_distrb == 0).any(), 'Delay distribution array must contain only nonzero values'\n",
        "\n",
        "    # смотрим в прошлое\n",
        "    k = len(delay_distrb)  # количество дней с момента заражения до репортации\n",
        "    ix_start_new = ser.index[0] - dt.timedelta(days=k - 1)\n",
        "    ix_end = ser.index[-1]\n",
        "    new_ix = pd.date_range(start=ix_start_new, end=ix_end, freq='D')\n",
        "    ser_extended = ser.reindex(new_ix, method='bfill')\n",
        "\n",
        "    # сдвиг временных рядов\n",
        "    mode_delay = delay_distrb.argmax()\n",
        "    ser_shifted = ser_extended.shift(-mode_delay).ffill()\n",
        "    ser_shifted[ser_shifted <= 0] = 1 # меняем отрицательные значения на 1\n",
        "\n",
        "    return ser_shifted"
      ],
      "metadata": {
        "id": "4H7mjrVpcAE3"
      },
      "execution_count": 105,
      "outputs": []
    },
    {
      "cell_type": "code",
      "source": [
        "import scipy.linalg as la"
      ],
      "metadata": {
        "id": "Wz75KxZ0c5RT"
      },
      "execution_count": 116,
      "outputs": []
    },
    {
      "cell_type": "markdown",
      "source": [
        "Получаем инфекции с максимальной вероятностью. Имеем зарегистрированные случаи (ser) и задержки от заражения до репортации (delay_distrib)"
      ],
      "metadata": {
        "id": "cITySwFwmuA5"
      }
    },
    {
      "cell_type": "code",
      "source": [
        "def deconvolve_series(ser: pd.Series, delay_distrb: np.ndarray) -> pd.Series:\n",
        "    assert abs(delay_distrb.sum() - 1.0) < 0.001, \"Delay distribution must sum to 1\"\n",
        "    assert all(ser >= 0)\n",
        "    ser = ser[ser.ne(0).idxmax():]\n",
        "\n",
        "    # получаем начальное значение\n",
        "    ser_deconvolved = shift_and_pad(ser, delay_distrb)\n",
        "\n",
        "    k = len(delay_distrb)  # количество дней с момента заражения до репортации\n",
        "    n = len(ser_deconvolved)\n",
        "\n",
        "    # ядро задержки\n",
        "    delay_distrb_rev = np.flip(delay_distrb)\n",
        "    col = np.concatenate(([delay_distrb_rev[0]], np.zeros(n - k)), axis=None)\n",
        "    row = np.concatenate((delay_distrb_rev, np.zeros(n - k)), axis=None)\n",
        "    delay_kernel = np.concatenate((np.zeros((k - 1, n)), la.toeplitz(col, row)), axis=0)\n",
        "\n",
        "    q = pd.Series(np.sum(delay_kernel, axis=0), index=ser_deconvolved.index) # смотрим все дни, q_j - вероятность, что о заражении в день j сообщат между днями k и n\n",
        "\n",
        "    # обратная свертка\n",
        "    for _ in range(100):\n",
        "        exp_obs_array = delay_kernel.dot(ser_deconvolved)\n",
        "        expected_observed = pd.Series(exp_obs_array[(k):], index=ser.index)\n",
        "        mD_overE = delay_kernel[(k):, :] * (ser / expected_observed).values.reshape(-1, 1)\n",
        "        ser_deconvolved = (ser_deconvolved / q) * np.sum(mD_overE, axis=0)\n",
        "        assert not ser_deconvolved.isna().any(), f'deconvolution has nan in iteration {_}'\n",
        "        EminusDsq_overE = np.square(expected_observed - ser)\n",
        "        chi_sq = (EminusDsq_overE / expected_observed).sum() / (n - k + 1)\n",
        "        if chi_sq < 1:\n",
        "            break\n",
        "\n",
        "    return ser_deconvolved"
      ],
      "metadata": {
        "id": "IPWLpILjb0qv"
      },
      "execution_count": 170,
      "outputs": []
    },
    {
      "cell_type": "markdown",
      "source": [
        "Общая зараженность"
      ],
      "metadata": {
        "id": "cvEN1a5ct0iE"
      }
    },
    {
      "cell_type": "code",
      "source": [
        "def overall_infectivity(infections_ts: pd.Series, gt_distribution: np.array) -> pd.Series:\n",
        "    padded_incidence = np.pad(\n",
        "        infections_ts.values,\n",
        "        (len(gt_distribution) - 1, 0),\n",
        "        mode='constant', constant_values=0\n",
        "    )\n",
        "    infectivity_array = np.convolve(\n",
        "        padded_incidence,\n",
        "        gt_distribution,\n",
        "        mode=\"valid\"\n",
        "    )\n",
        "    return pd.Series(infectivity_array, index=infections_ts.index)"
      ],
      "metadata": {
        "id": "eg7bGiiut0Eg"
      },
      "execution_count": null,
      "outputs": []
    },
    {
      "cell_type": "markdown",
      "source": [
        "Оценка репродуктивных чисел"
      ],
      "metadata": {
        "id": "hK-3apTHuVZ0"
      }
    },
    {
      "cell_type": "code",
      "source": [
        "def estimate_r(\n",
        "        infections_ts: pd.Series, #заражения\n",
        "        gt_distribution: np.ndarray, #генерационные интервалы\n",
        "        a_prior: float, #shape априорного гамма\n",
        "        b_prior: float, #scale априорного гамма\n",
        "        window_size: Optional[int] = None, #размер окна\n",
        "        boundary_dates: Optional[List[date]] = None #границы\n",
        ") -> pd.DataFrame:\n",
        "    assert abs(gt_distribution.sum() - 1.0) < 0.001, \"Serial interval distribution must sum to 1\"\n",
        "    assert (infections_ts >= 0).all(), \"Infection numbers cannot be negative\"\n",
        "\n",
        "    if window_size is None and boundary_dates is None:\n",
        "        raise ValueError(\"Either window_size or change_dates must be set\")\n",
        "\n",
        "    infectivity_ts = overall_infectivity(\n",
        "        infections_ts=infections_ts,\n",
        "        gt_distribution=np.asarray(gt_distribution)\n",
        "    )\n",
        "\n",
        "    df = pd.DataFrame(\n",
        "        {'infections': infections_ts, 'infectivity': infectivity_ts}\n",
        "    )\n",
        "\n",
        "    sums = sum_by_split_dates(df, boundary_dates) if boundary_dates is not None else df.rolling(window_size).sum().dropna()\n",
        "\n",
        "    return pd.DataFrame({\n",
        "        'a_posterior': a_prior + sums.infections,\n",
        "        'b_posterior': 1 / (1 / b_prior + sums.infectivity)\n",
        "    }) #датафрейм с апостериорными значениями shape и scale гамма распределения\n",
        "\n",
        "\n"
      ],
      "metadata": {
        "id": "AgQuFWW1cHuj"
      },
      "execution_count": 107,
      "outputs": []
    },
    {
      "cell_type": "code",
      "source": [
        "def sum_by_split_dates(df: pd.DataFrame, split_dates: List[date]):\n",
        "    idx = pd.cut(df.index, bins=np.array(split_dates, dtype=np.dtype('datetime64')), include_lowest=True, right=False)\n",
        "    sums = df.groupby(idx).sum()\n",
        "    return pd.DataFrame({'interval': idx}, index=df.index).join(sums, on='interval').drop('interval', axis=1).dropna()"
      ],
      "metadata": {
        "id": "W1XzX2YcqZmq"
      },
      "execution_count": null,
      "outputs": []
    },
    {
      "cell_type": "code",
      "source": [
        "def gamma_quantiles(q: float, a: np.ndarray, b: np.ndarray):\n",
        "    return gammaincinv(a, q) * b"
      ],
      "metadata": {
        "id": "N_Jaxl5Cqbli"
      },
      "execution_count": null,
      "outputs": []
    },
    {
      "cell_type": "code",
      "source": [
        "def sample_r(\n",
        "        confirmed_cases: pd.Series,\n",
        "        gt_distribution: np.ndarray,\n",
        "        delay_distribution: np.ndarray,\n",
        "        a_prior: float,\n",
        "        b_prior: float,\n",
        "        smoothing_window: int,\n",
        "        r_window_size: Optional[int] = None,\n",
        "        r_interval_dates: Optional[List[date]] = None,\n",
        ") -> pd.DataFrame:\n",
        "    bs_confirmed_cases = bootstrap_series(confirmed_cases)\n",
        "    sm_bs_confirmed_cases = smoothen_series(bs_confirmed_cases, smoothing_window)\n",
        "    max_likelihood_infections = deconvolve_series(sm_bs_confirmed_cases, delay_distribution)\n",
        "    posterior_reproduction_number = estimate_r(\n",
        "        infections_ts=max_likelihood_infections,\n",
        "        gt_distribution=gt_distribution,\n",
        "        a_prior=a_prior,\n",
        "        b_prior=b_prior,\n",
        "        window_size=r_window_size,\n",
        "        boundary_dates=r_interval_dates\n",
        "    )\n",
        "    assert len(posterior_reproduction_number) > 0\n",
        "    return posterior_reproduction_number"
      ],
      "metadata": {
        "id": "rHn4hhpBbgg5"
      },
      "execution_count": 108,
      "outputs": []
    },
    {
      "cell_type": "markdown",
      "source": [
        "Медианные квантили выборок"
      ],
      "metadata": {
        "id": "KmC55V84vGot"
      }
    },
    {
      "cell_type": "code",
      "source": [
        "def aggregate_quantiles_r(bag: List[pd.DataFrame], quantiles: Iterable[float]) -> pd.DataFrame:\n",
        "    all_samples = pd.concat([r_sample for r_sample in bag], axis=0)\n",
        "    all_samples['R_mean'] = all_samples.a_posterior * all_samples.b_posterior\n",
        "    all_samples['R_var'] = all_samples.a_posterior * all_samples.b_posterior ** 2\n",
        "    for q in quantiles:\n",
        "        all_samples[f'Q{q}'] = gamma_quantiles(q, all_samples.a_posterior, all_samples.b_posterior)\n",
        "    aggregate_quantiles = all_samples.drop(['a_posterior', 'b_posterior'], axis=1).groupby(all_samples.index).median()\n",
        "    return aggregate_quantiles"
      ],
      "metadata": {
        "id": "ta3XPKd6cWuK"
      },
      "execution_count": 110,
      "outputs": []
    },
    {
      "cell_type": "markdown",
      "source": [
        "Агрегированная бутстрапированная выборка (получаем агрегированные квантили)"
      ],
      "metadata": {
        "id": "WiQfUSZBvOLz"
      }
    },
    {
      "cell_type": "code",
      "source": [
        "def bagging_r(\n",
        "        confirmed_cases: pd.Series,\n",
        "        gt_distribution: np.ndarray,\n",
        "        delay_distribution: np.ndarray,\n",
        "        a_prior: float,\n",
        "        b_prior: float,\n",
        "        smoothing_window: int,\n",
        "        r_window_size: Optional[int] = None,\n",
        "        r_interval_dates: Optional[List[date]] = None,\n",
        "        n_samples: int = 100,\n",
        "        quantiles: Iterable[float] = (0.025, 0.5, 0.975),\n",
        "        auto_cutoff: bool = True\n",
        ") -> pd.DataFrame:\n",
        "    assert not any(q >= 1 or q <= 0 for q in quantiles), 'quantiles must be between 0 and 1'\n",
        "    assert isinstance(confirmed_cases, pd.Series), 'confirmed cases must be of type pandas.Series'\n",
        "    confirmed_cases = confirmed_cases.astype(int)\n",
        "    if r_interval_dates is not None:\n",
        "        r_interval_dates = sorted(r_interval_dates, reverse=False)\n",
        "    if auto_cutoff:\n",
        "        start_cutoff_date = start_date(\n",
        "            confirmed_cases=confirmed_cases,\n",
        "            gt_distribution=gt_distribution,\n",
        "            r_window_size=r_window_size\n",
        "        )\n",
        "        end_cutoff_date = end_date(\n",
        "            confirmed_cases=confirmed_cases,\n",
        "            delay_distribution=delay_distribution\n",
        "        )\n",
        "        if r_interval_dates is not None:\n",
        "            if r_interval_dates[0] < start_cutoff_date:\n",
        "                r_interval_dates = [start_cutoff_date] + [d for d in r_interval_dates if d > start_cutoff_date]\n",
        "                warnings.warn(\n",
        "                    f'First interval start reset to {str(start_cutoff_date)}. '\n",
        "                    'If you do not want that, set auto_cutoff=False.'\n",
        "                )\n",
        "            if r_interval_dates[-1] > end_cutoff_date:\n",
        "                r_interval_dates = [d for d in r_interval_dates if d < end_cutoff_date] + [end_cutoff_date]\n",
        "                warnings.warn(\n",
        "                    f'First interval end reset to {str(end_cutoff_date)}. '\n",
        "                    'If you do not want that, set auto_cutoff=False.'\n",
        "                )\n",
        "\n",
        "    if r_interval_dates is not None:\n",
        "        assert len(r_interval_dates) > 1, 'There are less than two interval boundaries.'\n",
        "\n",
        "    bag = []\n",
        "    for _ in range(n_samples):\n",
        "        posterior_r = sample_r(\n",
        "            confirmed_cases=confirmed_cases,\n",
        "            gt_distribution=gt_distribution,\n",
        "            delay_distribution=delay_distribution,\n",
        "            a_prior=a_prior,\n",
        "            b_prior=b_prior,\n",
        "            smoothing_window=smoothing_window,\n",
        "            r_window_size=r_window_size,\n",
        "            r_interval_dates=r_interval_dates\n",
        "        )\n",
        "        bag.append(posterior_r)\n",
        "    r_output = aggregate_quantiles_r(bag, quantiles)\n",
        "    r_output = pd.concat((confirmed_cases.rename('cases'), r_output), axis=1)\n",
        "    if auto_cutoff:\n",
        "        r_output = r_output[(start_cutoff_date <= r_output.index) & (r_output.index <= end_cutoff_date)]\n",
        "\n",
        "    return r_output"
      ],
      "metadata": {
        "id": "jNV8daKAbTzo"
      },
      "execution_count": 111,
      "outputs": []
    },
    {
      "cell_type": "markdown",
      "source": [
        "Агрегированная бутстрапированная выборка, получаем агрегированные квантили с дефолтными параметрами. На основе них будем рисовать"
      ],
      "metadata": {
        "id": "RHh_Bzsovbs1"
      }
    },
    {
      "cell_type": "code",
      "source": [
        "def r_covid(\n",
        "        confirmed_cases: pd.Series,\n",
        "        gt_distribution: np.array = generate_standard_si_distribution(),\n",
        "        delay_distribution: np.array = generate_standard_infection_to_reporting_distribution(),\n",
        "        a_prior: float = 3,\n",
        "        b_prior: float = 1,\n",
        "        smoothing_window: int = 21,\n",
        "        r_window_size: Optional[int] = 3,\n",
        "        r_interval_dates: Optional[List[date]] = None,\n",
        "        n_samples: int = 100,\n",
        "        quantiles: Iterable[float] = (0.025, 0.5, 0.975),\n",
        "        auto_cutoff: bool = True\n",
        ") -> pd.DataFrame:\n",
        "    return bagging_r(\n",
        "        confirmed_cases,\n",
        "        gt_distribution=gt_distribution,\n",
        "        delay_distribution=delay_distribution,\n",
        "        a_prior=a_prior,\n",
        "        b_prior=b_prior,\n",
        "        smoothing_window=smoothing_window,\n",
        "        r_window_size=r_window_size,\n",
        "        r_interval_dates=r_interval_dates,\n",
        "        n_samples=n_samples,\n",
        "        quantiles=quantiles,\n",
        "        auto_cutoff=auto_cutoff\n",
        "    )"
      ],
      "metadata": {
        "id": "pppBSLVhaRfF"
      },
      "execution_count": 112,
      "outputs": []
    },
    {
      "cell_type": "markdown",
      "source": [
        "#For Germany"
      ],
      "metadata": {
        "id": "KLFaEp2UjeIQ"
      }
    },
    {
      "cell_type": "code",
      "source": [
        "ch_cases = pd.DataFrame()\n",
        "ch_cases['Date'] = df['date']\n",
        "ch_cases['Cases'] = df['new_cases']\n",
        "ch_cases['Location'] = df['location']\n",
        "ch_cases = ch_cases.loc[(ch_cases['Location'] == 'Germany')]\n",
        "ch_cases = ch_cases.drop(columns='Location')\n",
        "ch_cases = ch_cases.dropna()\n",
        "ch_cases['Cases'] = ch_cases['Cases'].astype(int)\n",
        "ch_cases = ch_cases.set_index('Date')['Cases']\n",
        "ch_cases"
      ],
      "metadata": {
        "colab": {
          "base_uri": "https://localhost:8080/"
        },
        "id": "y5dNv5apjfXw",
        "outputId": "cad92b97-ba37-4052-8960-2ac8a85479a0"
      },
      "execution_count": 173,
      "outputs": [
        {
          "output_type": "execute_result",
          "data": {
            "text/plain": [
              "Date\n",
              "2020-01-27         1\n",
              "2020-01-28         3\n",
              "2020-01-29         0\n",
              "2020-01-30         0\n",
              "2020-01-31         1\n",
              "               ...  \n",
              "2022-07-09         0\n",
              "2022-07-10      3495\n",
              "2022-07-11    154729\n",
              "2022-07-12    127611\n",
              "2022-07-13    152149\n",
              "Name: Cases, Length: 898, dtype: int64"
            ]
          },
          "metadata": {},
          "execution_count": 173
        }
      ]
    },
    {
      "cell_type": "code",
      "source": [
        "ch_time_varying_r = r_covid(ch_cases)\n",
        "\n",
        "ch_time_varying_r.tail()"
      ],
      "metadata": {
        "colab": {
          "base_uri": "https://localhost:8080/",
          "height": 206
        },
        "id": "0k4U9vrGS4VC",
        "outputId": "d1260f41-c2cd-4778-821c-c9683ac11ac8"
      },
      "execution_count": 175,
      "outputs": [
        {
          "output_type": "execute_result",
          "data": {
            "text/plain": [
              "               cases    R_mean     R_var    Q0.025      Q0.5    Q0.975\n",
              "2022-07-04  147489.0  0.984580  0.000003  0.980945  0.984579  0.988221\n",
              "2022-07-05  130728.0  0.991082  0.000004  0.987412  0.991081  0.994760\n",
              "2022-07-06  135402.0  1.012812  0.000004  1.009099  1.012811  1.016532\n",
              "2022-07-07  117732.0  1.034513  0.000004  1.030788  1.034512  1.038245\n",
              "2022-07-08   95919.0  1.038239  0.000004  1.034570  1.038238  1.041914"
            ],
            "text/html": [
              "\n",
              "  <div id=\"df-0c9cf9e8-fd32-40d1-9ff0-f77b88e0bb37\">\n",
              "    <div class=\"colab-df-container\">\n",
              "      <div>\n",
              "<style scoped>\n",
              "    .dataframe tbody tr th:only-of-type {\n",
              "        vertical-align: middle;\n",
              "    }\n",
              "\n",
              "    .dataframe tbody tr th {\n",
              "        vertical-align: top;\n",
              "    }\n",
              "\n",
              "    .dataframe thead th {\n",
              "        text-align: right;\n",
              "    }\n",
              "</style>\n",
              "<table border=\"1\" class=\"dataframe\">\n",
              "  <thead>\n",
              "    <tr style=\"text-align: right;\">\n",
              "      <th></th>\n",
              "      <th>cases</th>\n",
              "      <th>R_mean</th>\n",
              "      <th>R_var</th>\n",
              "      <th>Q0.025</th>\n",
              "      <th>Q0.5</th>\n",
              "      <th>Q0.975</th>\n",
              "    </tr>\n",
              "  </thead>\n",
              "  <tbody>\n",
              "    <tr>\n",
              "      <th>2022-07-04</th>\n",
              "      <td>147489.0</td>\n",
              "      <td>0.984580</td>\n",
              "      <td>0.000003</td>\n",
              "      <td>0.980945</td>\n",
              "      <td>0.984579</td>\n",
              "      <td>0.988221</td>\n",
              "    </tr>\n",
              "    <tr>\n",
              "      <th>2022-07-05</th>\n",
              "      <td>130728.0</td>\n",
              "      <td>0.991082</td>\n",
              "      <td>0.000004</td>\n",
              "      <td>0.987412</td>\n",
              "      <td>0.991081</td>\n",
              "      <td>0.994760</td>\n",
              "    </tr>\n",
              "    <tr>\n",
              "      <th>2022-07-06</th>\n",
              "      <td>135402.0</td>\n",
              "      <td>1.012812</td>\n",
              "      <td>0.000004</td>\n",
              "      <td>1.009099</td>\n",
              "      <td>1.012811</td>\n",
              "      <td>1.016532</td>\n",
              "    </tr>\n",
              "    <tr>\n",
              "      <th>2022-07-07</th>\n",
              "      <td>117732.0</td>\n",
              "      <td>1.034513</td>\n",
              "      <td>0.000004</td>\n",
              "      <td>1.030788</td>\n",
              "      <td>1.034512</td>\n",
              "      <td>1.038245</td>\n",
              "    </tr>\n",
              "    <tr>\n",
              "      <th>2022-07-08</th>\n",
              "      <td>95919.0</td>\n",
              "      <td>1.038239</td>\n",
              "      <td>0.000004</td>\n",
              "      <td>1.034570</td>\n",
              "      <td>1.038238</td>\n",
              "      <td>1.041914</td>\n",
              "    </tr>\n",
              "  </tbody>\n",
              "</table>\n",
              "</div>\n",
              "      <button class=\"colab-df-convert\" onclick=\"convertToInteractive('df-0c9cf9e8-fd32-40d1-9ff0-f77b88e0bb37')\"\n",
              "              title=\"Convert this dataframe to an interactive table.\"\n",
              "              style=\"display:none;\">\n",
              "        \n",
              "  <svg xmlns=\"http://www.w3.org/2000/svg\" height=\"24px\"viewBox=\"0 0 24 24\"\n",
              "       width=\"24px\">\n",
              "    <path d=\"M0 0h24v24H0V0z\" fill=\"none\"/>\n",
              "    <path d=\"M18.56 5.44l.94 2.06.94-2.06 2.06-.94-2.06-.94-.94-2.06-.94 2.06-2.06.94zm-11 1L8.5 8.5l.94-2.06 2.06-.94-2.06-.94L8.5 2.5l-.94 2.06-2.06.94zm10 10l.94 2.06.94-2.06 2.06-.94-2.06-.94-.94-2.06-.94 2.06-2.06.94z\"/><path d=\"M17.41 7.96l-1.37-1.37c-.4-.4-.92-.59-1.43-.59-.52 0-1.04.2-1.43.59L10.3 9.45l-7.72 7.72c-.78.78-.78 2.05 0 2.83L4 21.41c.39.39.9.59 1.41.59.51 0 1.02-.2 1.41-.59l7.78-7.78 2.81-2.81c.8-.78.8-2.07 0-2.86zM5.41 20L4 18.59l7.72-7.72 1.47 1.35L5.41 20z\"/>\n",
              "  </svg>\n",
              "      </button>\n",
              "      \n",
              "  <style>\n",
              "    .colab-df-container {\n",
              "      display:flex;\n",
              "      flex-wrap:wrap;\n",
              "      gap: 12px;\n",
              "    }\n",
              "\n",
              "    .colab-df-convert {\n",
              "      background-color: #E8F0FE;\n",
              "      border: none;\n",
              "      border-radius: 50%;\n",
              "      cursor: pointer;\n",
              "      display: none;\n",
              "      fill: #1967D2;\n",
              "      height: 32px;\n",
              "      padding: 0 0 0 0;\n",
              "      width: 32px;\n",
              "    }\n",
              "\n",
              "    .colab-df-convert:hover {\n",
              "      background-color: #E2EBFA;\n",
              "      box-shadow: 0px 1px 2px rgba(60, 64, 67, 0.3), 0px 1px 3px 1px rgba(60, 64, 67, 0.15);\n",
              "      fill: #174EA6;\n",
              "    }\n",
              "\n",
              "    [theme=dark] .colab-df-convert {\n",
              "      background-color: #3B4455;\n",
              "      fill: #D2E3FC;\n",
              "    }\n",
              "\n",
              "    [theme=dark] .colab-df-convert:hover {\n",
              "      background-color: #434B5C;\n",
              "      box-shadow: 0px 1px 3px 1px rgba(0, 0, 0, 0.15);\n",
              "      filter: drop-shadow(0px 1px 2px rgba(0, 0, 0, 0.3));\n",
              "      fill: #FFFFFF;\n",
              "    }\n",
              "  </style>\n",
              "\n",
              "      <script>\n",
              "        const buttonEl =\n",
              "          document.querySelector('#df-0c9cf9e8-fd32-40d1-9ff0-f77b88e0bb37 button.colab-df-convert');\n",
              "        buttonEl.style.display =\n",
              "          google.colab.kernel.accessAllowed ? 'block' : 'none';\n",
              "\n",
              "        async function convertToInteractive(key) {\n",
              "          const element = document.querySelector('#df-0c9cf9e8-fd32-40d1-9ff0-f77b88e0bb37');\n",
              "          const dataTable =\n",
              "            await google.colab.kernel.invokeFunction('convertToInteractive',\n",
              "                                                     [key], {});\n",
              "          if (!dataTable) return;\n",
              "\n",
              "          const docLinkHtml = 'Like what you see? Visit the ' +\n",
              "            '<a target=\"_blank\" href=https://colab.research.google.com/notebooks/data_table.ipynb>data table notebook</a>'\n",
              "            + ' to learn more about interactive tables.';\n",
              "          element.innerHTML = '';\n",
              "          dataTable['output_type'] = 'display_data';\n",
              "          await google.colab.output.renderOutput(dataTable, element);\n",
              "          const docLink = document.createElement('div');\n",
              "          docLink.innerHTML = docLinkHtml;\n",
              "          element.appendChild(docLink);\n",
              "        }\n",
              "      </script>\n",
              "    </div>\n",
              "  </div>\n",
              "  "
            ]
          },
          "metadata": {},
          "execution_count": 175
        }
      ]
    },
    {
      "cell_type": "code",
      "source": [
        "fig, ax = plt.subplots(1,1, figsize=(12, 4))\n",
        "\n",
        "ch_time_varying_r.loc[:,'Q0.5'].plot(ax=ax, color='red')\n",
        "ax.fill_between(ch_time_varying_r.index,\n",
        "                    ch_time_varying_r['Q0.025'],\n",
        "                    ch_time_varying_r['Q0.975'],\n",
        "                    color='red', alpha=0.2)\n",
        "ax.set_xlabel('date')\n",
        "ax.set_ylabel('R(t) with 95%-CI')\n",
        "ax.set_ylim([0,3])\n",
        "ax.axhline(y=1)\n",
        "ax.set_title('Estimate of time-varying effective reproduction number for Switzerland')\n",
        "plt.show()"
      ],
      "metadata": {
        "colab": {
          "base_uri": "https://localhost:8080/",
          "height": 419
        },
        "id": "U8S7NryGS5Vc",
        "outputId": "70be67ea-20e5-42f4-f0a3-96bd06e76822"
      },
      "execution_count": 176,
      "outputs": [
        {
          "output_type": "display_data",
          "data": {
            "text/plain": [
              "<Figure size 1200x400 with 1 Axes>"
            ],
            "image/png": "[encoded data removed]"
          },
          "metadata": {}
        }
      ]
    },
    {
      "cell_type": "markdown",
      "source": [
        "#For Italy"
      ],
      "metadata": {
        "id": "kfVK8VZkjK_4"
      }
    },
    {
      "cell_type": "code",
      "source": [
        "ch_cases = pd.DataFrame()\n",
        "ch_cases['Date'] = df['date']\n",
        "ch_cases['Cases'] = df['new_cases']\n",
        "ch_cases['Location'] = df['location']\n",
        "ch_cases = ch_cases.loc[(ch_cases['Location'] == 'Italy')]\n",
        "ch_cases = ch_cases.drop(columns='Location')\n",
        "ch_cases = ch_cases.dropna()\n",
        "ch_cases['Cases'] = ch_cases['Cases'].astype(int)\n",
        "ch_cases = ch_cases.set_index('Date')['Cases']\n",
        "ch_cases"
      ],
      "metadata": {
        "colab": {
          "base_uri": "https://localhost:8080/"
        },
        "id": "3TwzjO3vjjtZ",
        "outputId": "71b89b8e-2628-4267-8e49-257adea27481"
      },
      "execution_count": 177,
      "outputs": [
        {
          "output_type": "execute_result",
          "data": {
            "text/plain": [
              "Date\n",
              "2020-01-31         2\n",
              "2020-02-01         0\n",
              "2020-02-02         0\n",
              "2020-02-03         0\n",
              "2020-02-04         0\n",
              "               ...  \n",
              "2022-07-09     98901\n",
              "2022-07-10     81563\n",
              "2022-07-11     83761\n",
              "2022-07-12    144058\n",
              "2022-07-13    111591\n",
              "Name: Cases, Length: 894, dtype: int64"
            ]
          },
          "metadata": {},
          "execution_count": 177
        }
      ]
    },
    {
      "cell_type": "markdown",
      "source": [
        "Смотрим среднее, дисперсию, квантили"
      ],
      "metadata": {
        "id": "XCtjxc1Qv6hg"
      }
    },
    {
      "cell_type": "code",
      "source": [
        "ch_time_varying_r = r_covid(ch_cases)\n",
        "\n",
        "ch_time_varying_r.tail()"
      ],
      "metadata": {
        "colab": {
          "base_uri": "https://localhost:8080/",
          "height": 206
        },
        "id": "mIwLsqrBjk1x",
        "outputId": "55ff1c08-153a-4258-d240-1cf939dabab8"
      },
      "execution_count": 178,
      "outputs": [
        {
          "output_type": "execute_result",
          "data": {
            "text/plain": [
              "               cases    R_mean     R_var    Q0.025      Q0.5    Q0.975\n",
              "2022-07-04   36885.0  1.026931  0.000003  1.023331  1.026930  1.030538\n",
              "2022-07-05  133015.0  1.020080  0.000003  1.016531  1.020078  1.023634\n",
              "2022-07-06  110017.0  1.018721  0.000003  1.015208  1.018720  1.022239\n",
              "2022-07-07  108386.0  1.022586  0.000003  1.019102  1.022585  1.026076\n",
              "2022-07-08  101863.0  1.024880  0.000003  1.021429  1.024879  1.028337"
            ],
            "text/html": [
              "\n",
              "  <div id=\"df-711ead38-4f76-49b3-a1e2-db95cbe938b2\">\n",
              "    <div class=\"colab-df-container\">\n",
              "      <div>\n",
              "<style scoped>\n",
              "    .dataframe tbody tr th:only-of-type {\n",
              "        vertical-align: middle;\n",
              "    }\n",
              "\n",
              "    .dataframe tbody tr th {\n",
              "        vertical-align: top;\n",
              "    }\n",
              "\n",
              "    .dataframe thead th {\n",
              "        text-align: right;\n",
              "    }\n",
              "</style>\n",
              "<table border=\"1\" class=\"dataframe\">\n",
              "  <thead>\n",
              "    <tr style=\"text-align: right;\">\n",
              "      <th></th>\n",
              "      <th>cases</th>\n",
              "      <th>R_mean</th>\n",
              "      <th>R_var</th>\n",
              "      <th>Q0.025</th>\n",
              "      <th>Q0.5</th>\n",
              "      <th>Q0.975</th>\n",
              "    </tr>\n",
              "  </thead>\n",
              "  <tbody>\n",
              "    <tr>\n",
              "      <th>2022-07-04</th>\n",
              "      <td>36885.0</td>\n",
              "      <td>1.026931</td>\n",
              "      <td>0.000003</td>\n",
              "      <td>1.023331</td>\n",
              "      <td>1.026930</td>\n",
              "      <td>1.030538</td>\n",
              "    </tr>\n",
              "    <tr>\n",
              "      <th>2022-07-05</th>\n",
              "      <td>133015.0</td>\n",
              "      <td>1.020080</td>\n",
              "      <td>0.000003</td>\n",
              "      <td>1.016531</td>\n",
              "      <td>1.020078</td>\n",
              "      <td>1.023634</td>\n",
              "    </tr>\n",
              "    <tr>\n",
              "      <th>2022-07-06</th>\n",
              "      <td>110017.0</td>\n",
              "      <td>1.018721</td>\n",
              "      <td>0.000003</td>\n",
              "      <td>1.015208</td>\n",
              "      <td>1.018720</td>\n",
              "      <td>1.022239</td>\n",
              "    </tr>\n",
              "    <tr>\n",
              "      <th>2022-07-07</th>\n",
              "      <td>108386.0</td>\n",
              "      <td>1.022586</td>\n",
              "      <td>0.000003</td>\n",
              "      <td>1.019102</td>\n",
              "      <td>1.022585</td>\n",
              "      <td>1.026076</td>\n",
              "    </tr>\n",
              "    <tr>\n",
              "      <th>2022-07-08</th>\n",
              "      <td>101863.0</td>\n",
              "      <td>1.024880</td>\n",
              "      <td>0.000003</td>\n",
              "      <td>1.021429</td>\n",
              "      <td>1.024879</td>\n",
              "      <td>1.028337</td>\n",
              "    </tr>\n",
              "  </tbody>\n",
              "</table>\n",
              "</div>\n",
              "      <button class=\"colab-df-convert\" onclick=\"convertToInteractive('df-711ead38-4f76-49b3-a1e2-db95cbe938b2')\"\n",
              "              title=\"Convert this dataframe to an interactive table.\"\n",
              "              style=\"display:none;\">\n",
              "        \n",
              "  <svg xmlns=\"http://www.w3.org/2000/svg\" height=\"24px\"viewBox=\"0 0 24 24\"\n",
              "       width=\"24px\">\n",
              "    <path d=\"M0 0h24v24H0V0z\" fill=\"none\"/>\n",
              "    <path d=\"M18.56 5.44l.94 2.06.94-2.06 2.06-.94-2.06-.94-.94-2.06-.94 2.06-2.06.94zm-11 1L8.5 8.5l.94-2.06 2.06-.94-2.06-.94L8.5 2.5l-.94 2.06-2.06.94zm10 10l.94 2.06.94-2.06 2.06-.94-2.06-.94-.94-2.06-.94 2.06-2.06.94z\"/><path d=\"M17.41 7.96l-1.37-1.37c-.4-.4-.92-.59-1.43-.59-.52 0-1.04.2-1.43.59L10.3 9.45l-7.72 7.72c-.78.78-.78 2.05 0 2.83L4 21.41c.39.39.9.59 1.41.59.51 0 1.02-.2 1.41-.59l7.78-7.78 2.81-2.81c.8-.78.8-2.07 0-2.86zM5.41 20L4 18.59l7.72-7.72 1.47 1.35L5.41 20z\"/>\n",
              "  </svg>\n",
              "      </button>\n",
              "      \n",
              "  <style>\n",
              "    .colab-df-container {\n",
              "      display:flex;\n",
              "      flex-wrap:wrap;\n",
              "      gap: 12px;\n",
              "    }\n",
              "\n",
              "    .colab-df-convert {\n",
              "      background-color: #E8F0FE;\n",
              "      border: none;\n",
              "      border-radius: 50%;\n",
              "      cursor: pointer;\n",
              "      display: none;\n",
              "      fill: #1967D2;\n",
              "      height: 32px;\n",
              "      padding: 0 0 0 0;\n",
              "      width: 32px;\n",
              "    }\n",
              "\n",
              "    .colab-df-convert:hover {\n",
              "      background-color: #E2EBFA;\n",
              "      box-shadow: 0px 1px 2px rgba(60, 64, 67, 0.3), 0px 1px 3px 1px rgba(60, 64, 67, 0.15);\n",
              "      fill: #174EA6;\n",
              "    }\n",
              "\n",
              "    [theme=dark] .colab-df-convert {\n",
              "      background-color: #3B4455;\n",
              "      fill: #D2E3FC;\n",
              "    }\n",
              "\n",
              "    [theme=dark] .colab-df-convert:hover {\n",
              "      background-color: #434B5C;\n",
              "      box-shadow: 0px 1px 3px 1px rgba(0, 0, 0, 0.15);\n",
              "      filter: drop-shadow(0px 1px 2px rgba(0, 0, 0, 0.3));\n",
              "      fill: #FFFFFF;\n",
              "    }\n",
              "  </style>\n",
              "\n",
              "      <script>\n",
              "        const buttonEl =\n",
              "          document.querySelector('#df-711ead38-4f76-49b3-a1e2-db95cbe938b2 button.colab-df-convert');\n",
              "        buttonEl.style.display =\n",
              "          google.colab.kernel.accessAllowed ? 'block' : 'none';\n",
              "\n",
              "        async function convertToInteractive(key) {\n",
              "          const element = document.querySelector('#df-711ead38-4f76-49b3-a1e2-db95cbe938b2');\n",
              "          const dataTable =\n",
              "            await google.colab.kernel.invokeFunction('convertToInteractive',\n",
              "                                                     [key], {});\n",
              "          if (!dataTable) return;\n",
              "\n",
              "          const docLinkHtml = 'Like what you see? Visit the ' +\n",
              "            '<a target=\"_blank\" href=https://colab.research.google.com/notebooks/data_table.ipynb>data table notebook</a>'\n",
              "            + ' to learn more about interactive tables.';\n",
              "          element.innerHTML = '';\n",
              "          dataTable['output_type'] = 'display_data';\n",
              "          await google.colab.output.renderOutput(dataTable, element);\n",
              "          const docLink = document.createElement('div');\n",
              "          docLink.innerHTML = docLinkHtml;\n",
              "          element.appendChild(docLink);\n",
              "        }\n",
              "      </script>\n",
              "    </div>\n",
              "  </div>\n",
              "  "
            ]
          },
          "metadata": {},
          "execution_count": 178
        }
      ]
    },
    {
      "cell_type": "code",
      "source": [
        "fig, ax = plt.subplots(1,1, figsize=(12, 4))\n",
        "\n",
        "ch_time_varying_r.loc[:,'Q0.5'].plot(ax=ax, color='red')\n",
        "ax.fill_between(ch_time_varying_r.index,\n",
        "                    ch_time_varying_r['Q0.025'],\n",
        "                    ch_time_varying_r['Q0.975'],\n",
        "                    color='red', alpha=0.2)\n",
        "ax.set_xlabel('date')\n",
        "ax.set_ylabel('R(t)')\n",
        "ax.set_ylim([0,3])\n",
        "ax.axhline(y=1)\n",
        "plt.show()"
      ],
      "metadata": {
        "colab": {
          "base_uri": "https://localhost:8080/",
          "height": 405
        },
        "id": "Vbkgg_RejmWg",
        "outputId": "3474de8a-a83b-4f75-f797-5b3c045d56f7"
      },
      "execution_count": 181,
      "outputs": [
        {
          "output_type": "display_data",
          "data": {
            "text/plain": [
              "<Figure size 1200x400 with 1 Axes>"
            ],
            "image/png": "[encoded data removed]"
          },
          "metadata": {}
        }
      ]
    }
  ]
}