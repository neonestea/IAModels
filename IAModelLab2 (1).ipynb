{
  "nbformat": 4,
  "nbformat_minor": 0,
  "metadata": {
    "colab": {
      "provenance": []
    },
    "kernelspec": {
      "name": "python3",
      "display_name": "Python 3"
    },
    "language_info": {
      "name": "python"
    }
  },
  "cells": [
    {
      "cell_type": "code",
      "source": [
        "import pandas as pd\n",
        "import matplotlib.pyplot as plt"
      ],
      "metadata": {
        "id": "1_43hgb33UQe"
      },
      "execution_count": 97,
      "outputs": []
    },
    {
      "cell_type": "code",
      "execution_count": 98,
      "metadata": {
        "id": "mQ4q-uAy1a-7"
      },
      "outputs": [],
      "source": [
        "df = pd.read_csv('owid-covid-data.csv', parse_dates=['date'])"
      ]
    },
    {
      "cell_type": "code",
      "source": [
        "df.head()"
      ],
      "metadata": {
        "colab": {
          "base_uri": "https://localhost:8080/",
          "height": 386
        },
        "id": "_cJUw7id2oKP",
        "outputId": "0565e8e3-e961-4050-e61d-058d5a89f2c9"
      },
      "execution_count": 99,
      "outputs": [
        {
          "output_type": "execute_result",
          "data": {
            "text/plain": [
              "  iso_code continent     location       date  total_cases  new_cases  \\\n",
              "0      AFG      Asia  Afghanistan 2020-02-24          5.0        5.0   \n",
              "1      AFG      Asia  Afghanistan 2020-02-25          5.0        0.0   \n",
              "2      AFG      Asia  Afghanistan 2020-02-26          5.0        0.0   \n",
              "3      AFG      Asia  Afghanistan 2020-02-27          5.0        0.0   \n",
              "4      AFG      Asia  Afghanistan 2020-02-28          5.0        0.0   \n",
              "\n",
              "   new_cases_smoothed  total_deaths  new_deaths  new_deaths_smoothed  ...  \\\n",
              "0                 NaN           NaN         NaN                  NaN  ...   \n",
              "1                 NaN           NaN         NaN                  NaN  ...   \n",
              "2                 NaN           NaN         NaN                  NaN  ...   \n",
              "3                 NaN           NaN         NaN                  NaN  ...   \n",
              "4                 NaN           NaN         NaN                  NaN  ...   \n",
              "\n",
              "   female_smokers  male_smokers  handwashing_facilities  \\\n",
              "0             NaN           NaN                  37.746   \n",
              "1             NaN           NaN                  37.746   \n",
              "2             NaN           NaN                  37.746   \n",
              "3             NaN           NaN                  37.746   \n",
              "4             NaN           NaN                  37.746   \n",
              "\n",
              "   hospital_beds_per_thousand  life_expectancy  human_development_index  \\\n",
              "0                         0.5            64.83                    0.511   \n",
              "1                         0.5            64.83                    0.511   \n",
              "2                         0.5            64.83                    0.511   \n",
              "3                         0.5            64.83                    0.511   \n",
              "4                         0.5            64.83                    0.511   \n",
              "\n",
              "   excess_mortality_cumulative_absolute  excess_mortality_cumulative  \\\n",
              "0                                   NaN                          NaN   \n",
              "1                                   NaN                          NaN   \n",
              "2                                   NaN                          NaN   \n",
              "3                                   NaN                          NaN   \n",
              "4                                   NaN                          NaN   \n",
              "\n",
              "   excess_mortality  excess_mortality_cumulative_per_million  \n",
              "0               NaN                                      NaN  \n",
              "1               NaN                                      NaN  \n",
              "2               NaN                                      NaN  \n",
              "3               NaN                                      NaN  \n",
              "4               NaN                                      NaN  \n",
              "\n",
              "[5 rows x 67 columns]"
            ],
            "text/html": [
              "\n",
              "  <div id=\"df-347cee6b-4f2c-4c18-894d-8cfac39e82e6\">\n",
              "    <div class=\"colab-df-container\">\n",
              "      <div>\n",
              "<style scoped>\n",
              "    .dataframe tbody tr th:only-of-type {\n",
              "        vertical-align: middle;\n",
              "    }\n",
              "\n",
              "    .dataframe tbody tr th {\n",
              "        vertical-align: top;\n",
              "    }\n",
              "\n",
              "    .dataframe thead th {\n",
              "        text-align: right;\n",
              "    }\n",
              "</style>\n",
              "<table border=\"1\" class=\"dataframe\">\n",
              "  <thead>\n",
              "    <tr style=\"text-align: right;\">\n",
              "      <th></th>\n",
              "      <th>iso_code</th>\n",
              "      <th>continent</th>\n",
              "      <th>location</th>\n",
              "      <th>date</th>\n",
              "      <th>total_cases</th>\n",
              "      <th>new_cases</th>\n",
              "      <th>new_cases_smoothed</th>\n",
              "      <th>total_deaths</th>\n",
              "      <th>new_deaths</th>\n",
              "      <th>new_deaths_smoothed</th>\n",
              "      <th>...</th>\n",
              "      <th>female_smokers</th>\n",
              "      <th>male_smokers</th>\n",
              "      <th>handwashing_facilities</th>\n",
              "      <th>hospital_beds_per_thousand</th>\n",
              "      <th>life_expectancy</th>\n",
              "      <th>human_development_index</th>\n",
              "      <th>excess_mortality_cumulative_absolute</th>\n",
              "      <th>excess_mortality_cumulative</th>\n",
              "      <th>excess_mortality</th>\n",
              "      <th>excess_mortality_cumulative_per_million</th>\n",
              "    </tr>\n",
              "  </thead>\n",
              "  <tbody>\n",
              "    <tr>\n",
              "      <th>0</th>\n",
              "      <td>AFG</td>\n",
              "      <td>Asia</td>\n",
              "      <td>Afghanistan</td>\n",
              "      <td>2020-02-24</td>\n",
              "      <td>5.0</td>\n",
              "      <td>5.0</td>\n",
              "      <td>NaN</td>\n",
              "      <td>NaN</td>\n",
              "      <td>NaN</td>\n",
              "      <td>NaN</td>\n",
              "      <td>...</td>\n",
              "      <td>NaN</td>\n",
              "      <td>NaN</td>\n",
              "      <td>37.746</td>\n",
              "      <td>0.5</td>\n",
              "      <td>64.83</td>\n",
              "      <td>0.511</td>\n",
              "      <td>NaN</td>\n",
              "      <td>NaN</td>\n",
              "      <td>NaN</td>\n",
              "      <td>NaN</td>\n",
              "    </tr>\n",
              "    <tr>\n",
              "      <th>1</th>\n",
              "      <td>AFG</td>\n",
              "      <td>Asia</td>\n",
              "      <td>Afghanistan</td>\n",
              "      <td>2020-02-25</td>\n",
              "      <td>5.0</td>\n",
              "      <td>0.0</td>\n",
              "      <td>NaN</td>\n",
              "      <td>NaN</td>\n",
              "      <td>NaN</td>\n",
              "      <td>NaN</td>\n",
              "      <td>...</td>\n",
              "      <td>NaN</td>\n",
              "      <td>NaN</td>\n",
              "      <td>37.746</td>\n",
              "      <td>0.5</td>\n",
              "      <td>64.83</td>\n",
              "      <td>0.511</td>\n",
              "      <td>NaN</td>\n",
              "      <td>NaN</td>\n",
              "      <td>NaN</td>\n",
              "      <td>NaN</td>\n",
              "    </tr>\n",
              "    <tr>\n",
              "      <th>2</th>\n",
              "      <td>AFG</td>\n",
              "      <td>Asia</td>\n",
              "      <td>Afghanistan</td>\n",
              "      <td>2020-02-26</td>\n",
              "      <td>5.0</td>\n",
              "      <td>0.0</td>\n",
              "      <td>NaN</td>\n",
              "      <td>NaN</td>\n",
              "      <td>NaN</td>\n",
              "      <td>NaN</td>\n",
              "      <td>...</td>\n",
              "      <td>NaN</td>\n",
              "      <td>NaN</td>\n",
              "      <td>37.746</td>\n",
              "      <td>0.5</td>\n",
              "      <td>64.83</td>\n",
              "      <td>0.511</td>\n",
              "      <td>NaN</td>\n",
              "      <td>NaN</td>\n",
              "      <td>NaN</td>\n",
              "      <td>NaN</td>\n",
              "    </tr>\n",
              "    <tr>\n",
              "      <th>3</th>\n",
              "      <td>AFG</td>\n",
              "      <td>Asia</td>\n",
              "      <td>Afghanistan</td>\n",
              "      <td>2020-02-27</td>\n",
              "      <td>5.0</td>\n",
              "      <td>0.0</td>\n",
              "      <td>NaN</td>\n",
              "      <td>NaN</td>\n",
              "      <td>NaN</td>\n",
              "      <td>NaN</td>\n",
              "      <td>...</td>\n",
              "      <td>NaN</td>\n",
              "      <td>NaN</td>\n",
              "      <td>37.746</td>\n",
              "      <td>0.5</td>\n",
              "      <td>64.83</td>\n",
              "      <td>0.511</td>\n",
              "      <td>NaN</td>\n",
              "      <td>NaN</td>\n",
              "      <td>NaN</td>\n",
              "      <td>NaN</td>\n",
              "    </tr>\n",
              "    <tr>\n",
              "      <th>4</th>\n",
              "      <td>AFG</td>\n",
              "      <td>Asia</td>\n",
              "      <td>Afghanistan</td>\n",
              "      <td>2020-02-28</td>\n",
              "      <td>5.0</td>\n",
              "      <td>0.0</td>\n",
              "      <td>NaN</td>\n",
              "      <td>NaN</td>\n",
              "      <td>NaN</td>\n",
              "      <td>NaN</td>\n",
              "      <td>...</td>\n",
              "      <td>NaN</td>\n",
              "      <td>NaN</td>\n",
              "      <td>37.746</td>\n",
              "      <td>0.5</td>\n",
              "      <td>64.83</td>\n",
              "      <td>0.511</td>\n",
              "      <td>NaN</td>\n",
              "      <td>NaN</td>\n",
              "      <td>NaN</td>\n",
              "      <td>NaN</td>\n",
              "    </tr>\n",
              "  </tbody>\n",
              "</table>\n",
              "<p>5 rows × 67 columns</p>\n",
              "</div>\n",
              "      <button class=\"colab-df-convert\" onclick=\"convertToInteractive('df-347cee6b-4f2c-4c18-894d-8cfac39e82e6')\"\n",
              "              title=\"Convert this dataframe to an interactive table.\"\n",
              "              style=\"display:none;\">\n",
              "        \n",
              "  <svg xmlns=\"http://www.w3.org/2000/svg\" height=\"24px\"viewBox=\"0 0 24 24\"\n",
              "       width=\"24px\">\n",
              "    <path d=\"M0 0h24v24H0V0z\" fill=\"none\"/>\n",
              "    <path d=\"M18.56 5.44l.94 2.06.94-2.06 2.06-.94-2.06-.94-.94-2.06-.94 2.06-2.06.94zm-11 1L8.5 8.5l.94-2.06 2.06-.94-2.06-.94L8.5 2.5l-.94 2.06-2.06.94zm10 10l.94 2.06.94-2.06 2.06-.94-2.06-.94-.94-2.06-.94 2.06-2.06.94z\"/><path d=\"M17.41 7.96l-1.37-1.37c-.4-.4-.92-.59-1.43-.59-.52 0-1.04.2-1.43.59L10.3 9.45l-7.72 7.72c-.78.78-.78 2.05 0 2.83L4 21.41c.39.39.9.59 1.41.59.51 0 1.02-.2 1.41-.59l7.78-7.78 2.81-2.81c.8-.78.8-2.07 0-2.86zM5.41 20L4 18.59l7.72-7.72 1.47 1.35L5.41 20z\"/>\n",
              "  </svg>\n",
              "      </button>\n",
              "      \n",
              "  <style>\n",
              "    .colab-df-container {\n",
              "      display:flex;\n",
              "      flex-wrap:wrap;\n",
              "      gap: 12px;\n",
              "    }\n",
              "\n",
              "    .colab-df-convert {\n",
              "      background-color: #E8F0FE;\n",
              "      border: none;\n",
              "      border-radius: 50%;\n",
              "      cursor: pointer;\n",
              "      display: none;\n",
              "      fill: #1967D2;\n",
              "      height: 32px;\n",
              "      padding: 0 0 0 0;\n",
              "      width: 32px;\n",
              "    }\n",
              "\n",
              "    .colab-df-convert:hover {\n",
              "      background-color: #E2EBFA;\n",
              "      box-shadow: 0px 1px 2px rgba(60, 64, 67, 0.3), 0px 1px 3px 1px rgba(60, 64, 67, 0.15);\n",
              "      fill: #174EA6;\n",
              "    }\n",
              "\n",
              "    [theme=dark] .colab-df-convert {\n",
              "      background-color: #3B4455;\n",
              "      fill: #D2E3FC;\n",
              "    }\n",
              "\n",
              "    [theme=dark] .colab-df-convert:hover {\n",
              "      background-color: #434B5C;\n",
              "      box-shadow: 0px 1px 3px 1px rgba(0, 0, 0, 0.15);\n",
              "      filter: drop-shadow(0px 1px 2px rgba(0, 0, 0, 0.3));\n",
              "      fill: #FFFFFF;\n",
              "    }\n",
              "  </style>\n",
              "\n",
              "      <script>\n",
              "        const buttonEl =\n",
              "          document.querySelector('#df-347cee6b-4f2c-4c18-894d-8cfac39e82e6 button.colab-df-convert');\n",
              "        buttonEl.style.display =\n",
              "          google.colab.kernel.accessAllowed ? 'block' : 'none';\n",
              "\n",
              "        async function convertToInteractive(key) {\n",
              "          const element = document.querySelector('#df-347cee6b-4f2c-4c18-894d-8cfac39e82e6');\n",
              "          const dataTable =\n",
              "            await google.colab.kernel.invokeFunction('convertToInteractive',\n",
              "                                                     [key], {});\n",
              "          if (!dataTable) return;\n",
              "\n",
              "          const docLinkHtml = 'Like what you see? Visit the ' +\n",
              "            '<a target=\"_blank\" href=https://colab.research.google.com/notebooks/data_table.ipynb>data table notebook</a>'\n",
              "            + ' to learn more about interactive tables.';\n",
              "          element.innerHTML = '';\n",
              "          dataTable['output_type'] = 'display_data';\n",
              "          await google.colab.output.renderOutput(dataTable, element);\n",
              "          const docLink = document.createElement('div');\n",
              "          docLink.innerHTML = docLinkHtml;\n",
              "          element.appendChild(docLink);\n",
              "        }\n",
              "      </script>\n",
              "    </div>\n",
              "  </div>\n",
              "  "
            ]
          },
          "metadata": {},
          "execution_count": 99
        }
      ]
    },
    {
      "cell_type": "code",
      "source": [
        "import numpy as np"
      ],
      "metadata": {
        "id": "EVEzQLFv6_T1"
      },
      "execution_count": 100,
      "outputs": []
    },
    {
      "cell_type": "markdown",
      "source": [
        "Аппроксимация прямой"
      ],
      "metadata": {
        "id": "kk3w_3yX7N3O"
      }
    },
    {
      "cell_type": "code",
      "source": [
        "def fit_line(points):\n",
        "\n",
        "    points = np.log(points)\n",
        "    points[points == -np.inf] = 0\n",
        "    r = np.polyfit([p[0] for p in points], [p[1] for p in points], 1)\n",
        "    print(f\"y = {r[0]:.2f}x + {r[1]:.2f}\")\n",
        "    return r[0], r[1]\n",
        "\n",
        "fit_line(np.random.rand(21, 2))\n",
        "# fit_line(np.array([[0, 0], [0, 1], [0, 2], [0, 3]]))\n",
        "fit_line(np.array([[0, 3], [1, 4], [2, 5], [3, 6]]))"
      ],
      "metadata": {
        "colab": {
          "base_uri": "https://localhost:8080/"
        },
        "id": "-7YszA-W6-ev",
        "outputId": "4acb0667-52cb-4425-f033-00b12dc09e45"
      },
      "execution_count": 101,
      "outputs": [
        {
          "output_type": "stream",
          "name": "stdout",
          "text": [
            "y = 0.06x + -0.58\n",
            "y = 0.51x + 1.25\n"
          ]
        },
        {
          "output_type": "stream",
          "name": "stderr",
          "text": [
            "<ipython-input-101-6d84a42716c1>:3: RuntimeWarning: divide by zero encountered in log\n",
            "  points = np.log(points)\n"
          ]
        },
        {
          "output_type": "execute_result",
          "data": {
            "text/plain": [
              "(0.5056565522726152, 1.2450222789346217)"
            ]
          },
          "metadata": {},
          "execution_count": 101
        }
      ]
    },
    {
      "cell_type": "code",
      "source": [
        "x = np.linspace(-100.,100.)"
      ],
      "metadata": {
        "id": "khPWdmEo-GyX"
      },
      "execution_count": 102,
      "outputs": []
    },
    {
      "cell_type": "code",
      "source": [
        "def findR0(a):\n",
        "  G = 6.5\n",
        "  k = 16.25\n",
        "  ro = G * a\n",
        "  if a < 0:\n",
        "    return 0\n",
        "  return (1 + k*ro) ** (1/k)\n"
      ],
      "metadata": {
        "id": "_wnmgY5J_A3u"
      },
      "execution_count": 103,
      "outputs": []
    },
    {
      "cell_type": "markdown",
      "source": [
        "#Italy"
      ],
      "metadata": {
        "id": "24YuMS-93KMt"
      }
    },
    {
      "cell_type": "code",
      "source": [
        "ch_cases = pd.DataFrame()\n",
        "ch_cases['Date'] = df['date']\n",
        "ch_cases['Cases'] = df['new_cases']\n",
        "ch_cases['Location'] = df['location']\n",
        "ch_cases = ch_cases.loc[(ch_cases['Location'] == 'Italy')]\n",
        "ch_cases = ch_cases.loc[(ch_cases['Date'] < '2020-03-15')]\n",
        "ch_cases = ch_cases.drop(columns='Location')\n",
        "ch_cases = ch_cases.dropna()\n",
        "ch_cases['Cases'] = ch_cases['Cases'].astype(int)\n",
        "ch_cases = ch_cases.set_index('Date')['Cases']\n",
        "ch_cases"
      ],
      "metadata": {
        "colab": {
          "base_uri": "https://localhost:8080/"
        },
        "id": "6z1bRSUE3G6m",
        "outputId": "7a5d9eac-eb48-493a-9a18-726a5b46e416"
      },
      "execution_count": 104,
      "outputs": [
        {
          "output_type": "execute_result",
          "data": {
            "text/plain": [
              "Date\n",
              "2020-01-31       2\n",
              "2020-02-01       0\n",
              "2020-02-02       0\n",
              "2020-02-03       0\n",
              "2020-02-04       0\n",
              "2020-02-05       0\n",
              "2020-02-06       0\n",
              "2020-02-07       1\n",
              "2020-02-08       0\n",
              "2020-02-09       0\n",
              "2020-02-10       0\n",
              "2020-02-11       0\n",
              "2020-02-12       0\n",
              "2020-02-13       0\n",
              "2020-02-14       0\n",
              "2020-02-15       0\n",
              "2020-02-16       0\n",
              "2020-02-17       0\n",
              "2020-02-18       0\n",
              "2020-02-19       0\n",
              "2020-02-20       0\n",
              "2020-02-21      17\n",
              "2020-02-22      42\n",
              "2020-02-23      93\n",
              "2020-02-24      74\n",
              "2020-02-25      93\n",
              "2020-02-26     131\n",
              "2020-02-27     202\n",
              "2020-02-28     233\n",
              "2020-02-29     240\n",
              "2020-03-01     566\n",
              "2020-03-02     342\n",
              "2020-03-03     466\n",
              "2020-03-04     587\n",
              "2020-03-05     769\n",
              "2020-03-06     778\n",
              "2020-03-07    1247\n",
              "2020-03-08    1492\n",
              "2020-03-09    1797\n",
              "2020-03-10     977\n",
              "2020-03-11    2313\n",
              "2020-03-12    2651\n",
              "2020-03-13    2547\n",
              "2020-03-14    3497\n",
              "Name: Cases, dtype: int64"
            ]
          },
          "metadata": {},
          "execution_count": 104
        }
      ]
    },
    {
      "cell_type": "code",
      "source": [
        "len(ch_cases)"
      ],
      "metadata": {
        "colab": {
          "base_uri": "https://localhost:8080/"
        },
        "id": "XcWAB0i95hUC",
        "outputId": "bdf59e88-d939-4c50-bca6-1836b67f8ff8"
      },
      "execution_count": 105,
      "outputs": [
        {
          "output_type": "execute_result",
          "data": {
            "text/plain": [
              "44"
            ]
          },
          "metadata": {},
          "execution_count": 105
        }
      ]
    },
    {
      "cell_type": "code",
      "source": [
        "res = ch_cases.to_numpy()\n",
        "vals = []\n",
        "for i in range(len(res)):\n",
        "  vals.append([i, res[i]])\n",
        "vals =np.array(vals)"
      ],
      "metadata": {
        "id": "x3d-F7K37sHo"
      },
      "execution_count": 106,
      "outputs": []
    },
    {
      "cell_type": "code",
      "source": [
        "variant1 = vals[:10]\n",
        "a, b = fit_line(variant1)"
      ],
      "metadata": {
        "colab": {
          "base_uri": "https://localhost:8080/"
        },
        "id": "el0TAdQh5loC",
        "outputId": "744c131a-2bbd-4f98-e511-10147737fe7a"
      },
      "execution_count": 107,
      "outputs": [
        {
          "output_type": "stream",
          "name": "stdout",
          "text": [
            "y = -0.15x + 0.26\n"
          ]
        },
        {
          "output_type": "stream",
          "name": "stderr",
          "text": [
            "<ipython-input-101-6d84a42716c1>:3: RuntimeWarning: divide by zero encountered in log\n",
            "  points = np.log(points)\n"
          ]
        }
      ]
    },
    {
      "cell_type": "code",
      "source": [
        "plt.scatter(variant1[:,0], variant1[:,1],  c =\"blue\")\n",
        "plt.plot(x,a*x+b,  c =\"red\")\n",
        "plt.show()"
      ],
      "metadata": {
        "colab": {
          "base_uri": "https://localhost:8080/",
          "height": 430
        },
        "id": "Ob4yq0zh6FU6",
        "outputId": "45ec2bfc-9b64-464b-ab75-dff5f2eed666"
      },
      "execution_count": 108,
      "outputs": [
        {
          "output_type": "display_data",
          "data": {
            "text/plain": [
              "<Figure size 640x480 with 1 Axes>"
            ],
            "image/png": "[encoded data removed]"
          },
          "metadata": {}
        }
      ]
    },
    {
      "cell_type": "code",
      "source": [
        "findR0(a)"
      ],
      "metadata": {
        "colab": {
          "base_uri": "https://localhost:8080/"
        },
        "id": "yTn8VwWe_s5L",
        "outputId": "fd900901-1080-4715-901f-7cbe875c780b"
      },
      "execution_count": 109,
      "outputs": [
        {
          "output_type": "execute_result",
          "data": {
            "text/plain": [
              "0"
            ]
          },
          "metadata": {},
          "execution_count": 109
        }
      ]
    },
    {
      "cell_type": "code",
      "source": [
        "variant2 = vals[:20]\n",
        "a, b = fit_line(variant2)"
      ],
      "metadata": {
        "colab": {
          "base_uri": "https://localhost:8080/"
        },
        "id": "7yiyVtDT5saR",
        "outputId": "2a173bef-c9ca-4e0c-cfe4-85ec81c57741"
      },
      "execution_count": 110,
      "outputs": [
        {
          "output_type": "stream",
          "name": "stdout",
          "text": [
            "y = -0.09x + 0.20\n"
          ]
        },
        {
          "output_type": "stream",
          "name": "stderr",
          "text": [
            "<ipython-input-101-6d84a42716c1>:3: RuntimeWarning: divide by zero encountered in log\n",
            "  points = np.log(points)\n"
          ]
        }
      ]
    },
    {
      "cell_type": "code",
      "source": [
        "plt.scatter(variant2[:,0], variant2[:,1],  c =\"blue\")\n",
        "plt.plot(x,a*x+b,  c =\"red\")\n",
        "plt.show()"
      ],
      "metadata": {
        "colab": {
          "base_uri": "https://localhost:8080/",
          "height": 430
        },
        "id": "hCA3FEQt6T5A",
        "outputId": "827f798f-7e29-413f-c542-0f61f8989ef7"
      },
      "execution_count": 111,
      "outputs": [
        {
          "output_type": "display_data",
          "data": {
            "text/plain": [
              "<Figure size 640x480 with 1 Axes>"
            ],
            "image/png": "[encoded data removed]"
          },
          "metadata": {}
        }
      ]
    },
    {
      "cell_type": "code",
      "source": [
        "findR0(a)"
      ],
      "metadata": {
        "colab": {
          "base_uri": "https://localhost:8080/"
        },
        "id": "l1Q9wAnj_wfS",
        "outputId": "82eb3aa5-6514-4e07-987c-cc5706aa22e2"
      },
      "execution_count": 112,
      "outputs": [
        {
          "output_type": "execute_result",
          "data": {
            "text/plain": [
              "0"
            ]
          },
          "metadata": {},
          "execution_count": 112
        }
      ]
    },
    {
      "cell_type": "code",
      "source": [
        "variant3 = vals[:30]\n",
        "a, b = fit_line(variant3)\n",
        "plt.plot(x,a*x+b,  c =\"red\")\n",
        "plt.scatter(variant3[:,0], variant3[:,1],  c =\"blue\")\n",
        "plt.show()"
      ],
      "metadata": {
        "colab": {
          "base_uri": "https://localhost:8080/",
          "height": 482
        },
        "id": "wWUJ1LCu5uBC",
        "outputId": "4354c076-b949-4a0f-ea7f-b7f920e80464"
      },
      "execution_count": 113,
      "outputs": [
        {
          "output_type": "stream",
          "name": "stderr",
          "text": [
            "<ipython-input-101-6d84a42716c1>:3: RuntimeWarning: divide by zero encountered in log\n",
            "  points = np.log(points)\n"
          ]
        },
        {
          "output_type": "stream",
          "name": "stdout",
          "text": [
            "y = 1.29x + -1.67\n"
          ]
        },
        {
          "output_type": "display_data",
          "data": {
            "text/plain": [
              "<Figure size 640x480 with 1 Axes>"
            ],
            "image/png": "[encoded data removed]"
          },
          "metadata": {}
        }
      ]
    },
    {
      "cell_type": "code",
      "source": [
        "findR0(a)"
      ],
      "metadata": {
        "colab": {
          "base_uri": "https://localhost:8080/"
        },
        "id": "KZzJl87r_xID",
        "outputId": "e38a34d1-565f-4984-bcc3-a4936592a779"
      },
      "execution_count": 114,
      "outputs": [
        {
          "output_type": "execute_result",
          "data": {
            "text/plain": [
              "1.353808456261628"
            ]
          },
          "metadata": {},
          "execution_count": 114
        }
      ]
    },
    {
      "cell_type": "code",
      "source": [
        "variant4 = vals[:40]\n",
        "a, b = fit_line(variant4)\n",
        "plt.plot(x,a*x+b,  c =\"red\")\n",
        "plt.scatter(variant4[:,0], variant4[:,1],  c =\"blue\")\n",
        "plt.show()"
      ],
      "metadata": {
        "colab": {
          "base_uri": "https://localhost:8080/",
          "height": 482
        },
        "id": "W7CahLcp5vwj",
        "outputId": "8a27311b-9e54-4095-e5ce-ef3baac8c784"
      },
      "execution_count": 115,
      "outputs": [
        {
          "output_type": "stream",
          "name": "stderr",
          "text": [
            "<ipython-input-101-6d84a42716c1>:3: RuntimeWarning: divide by zero encountered in log\n",
            "  points = np.log(points)\n"
          ]
        },
        {
          "output_type": "stream",
          "name": "stdout",
          "text": [
            "y = 2.21x + -3.18\n"
          ]
        },
        {
          "output_type": "display_data",
          "data": {
            "text/plain": [
              "<Figure size 640x480 with 1 Axes>"
            ],
            "image/png": "[encoded data removed]"
          },
          "metadata": {}
        }
      ]
    },
    {
      "cell_type": "code",
      "source": [
        "findR0(a)"
      ],
      "metadata": {
        "colab": {
          "base_uri": "https://localhost:8080/"
        },
        "id": "ce2dVDEu_xlj",
        "outputId": "8f7ce7c0-7f7d-4590-91b6-04816a0353a4"
      },
      "execution_count": 116,
      "outputs": [
        {
          "output_type": "execute_result",
          "data": {
            "text/plain": [
              "1.3991685278527268"
            ]
          },
          "metadata": {},
          "execution_count": 116
        }
      ]
    },
    {
      "cell_type": "code",
      "source": [
        "variant5 = vals\n",
        "a, b = fit_line(variant5)\n",
        "plt.plot(x,a*x+b,  c =\"red\")\n",
        "plt.scatter(variant5[:,0], variant5[:,1],  c =\"blue\")\n",
        "plt.show()"
      ],
      "metadata": {
        "colab": {
          "base_uri": "https://localhost:8080/",
          "height": 482
        },
        "id": "c01c8Wha55FK",
        "outputId": "b38ecde1-042c-460b-b375-8a82e18cf9d1"
      },
      "execution_count": 117,
      "outputs": [
        {
          "output_type": "stream",
          "name": "stderr",
          "text": [
            "<ipython-input-101-6d84a42716c1>:3: RuntimeWarning: divide by zero encountered in log\n",
            "  points = np.log(points)\n"
          ]
        },
        {
          "output_type": "stream",
          "name": "stdout",
          "text": [
            "y = 2.49x + -3.68\n"
          ]
        },
        {
          "output_type": "display_data",
          "data": {
            "text/plain": [
              "<Figure size 640x480 with 1 Axes>"
            ],
            "image/png": "[encoded data removed]"
          },
          "metadata": {}
        }
      ]
    },
    {
      "cell_type": "code",
      "source": [
        "findR0(a)"
      ],
      "metadata": {
        "colab": {
          "base_uri": "https://localhost:8080/"
        },
        "id": "4zqEdUF8_yBj",
        "outputId": "b7c050fa-42f7-4112-b49f-98acd3dd2f4e"
      },
      "execution_count": 118,
      "outputs": [
        {
          "output_type": "execute_result",
          "data": {
            "text/plain": [
              "1.4091894397138214"
            ]
          },
          "metadata": {},
          "execution_count": 118
        }
      ]
    },
    {
      "cell_type": "markdown",
      "source": [
        "#Germany"
      ],
      "metadata": {
        "id": "kNQaKIHy3NKo"
      }
    },
    {
      "cell_type": "code",
      "source": [
        "ch_cases = pd.DataFrame()\n",
        "ch_cases['Date'] = df['date']\n",
        "ch_cases['Cases'] = df['new_cases']\n",
        "ch_cases['Location'] = df['location']\n",
        "ch_cases = ch_cases.loc[(ch_cases['Location'] == 'Germany')]\n",
        "ch_cases = ch_cases.loc[(ch_cases['Date'] < '2020-03-15')]\n",
        "ch_cases = ch_cases.drop(columns='Location')\n",
        "ch_cases = ch_cases.dropna()\n",
        "ch_cases['Cases'] = ch_cases['Cases'].astype(int)\n",
        "ch_cases = ch_cases.set_index('Date')['Cases']\n",
        "ch_cases"
      ],
      "metadata": {
        "colab": {
          "base_uri": "https://localhost:8080/"
        },
        "id": "oBwQvZbo3Jl_",
        "outputId": "ad93d729-193e-464c-afc4-3745e7fca405"
      },
      "execution_count": 119,
      "outputs": [
        {
          "output_type": "execute_result",
          "data": {
            "text/plain": [
              "Date\n",
              "2020-01-27      1\n",
              "2020-01-28      3\n",
              "2020-01-29      0\n",
              "2020-01-30      0\n",
              "2020-01-31      1\n",
              "2020-02-01      3\n",
              "2020-02-02      2\n",
              "2020-02-03      2\n",
              "2020-02-04      0\n",
              "2020-02-05      0\n",
              "2020-02-06      0\n",
              "2020-02-07      1\n",
              "2020-02-08      0\n",
              "2020-02-09      1\n",
              "2020-02-10      0\n",
              "2020-02-11      2\n",
              "2020-02-12      0\n",
              "2020-02-13      0\n",
              "2020-02-14      0\n",
              "2020-02-15      0\n",
              "2020-02-16      0\n",
              "2020-02-17      0\n",
              "2020-02-18      0\n",
              "2020-02-19      0\n",
              "2020-02-20      0\n",
              "2020-02-21      0\n",
              "2020-02-22      0\n",
              "2020-02-23      0\n",
              "2020-02-24      0\n",
              "2020-02-25      0\n",
              "2020-02-26      5\n",
              "2020-02-27      5\n",
              "2020-02-28     27\n",
              "2020-02-29     13\n",
              "2020-03-01     51\n",
              "2020-03-02     33\n",
              "2020-03-03     38\n",
              "2020-03-04     52\n",
              "2020-03-05    109\n",
              "2020-03-06    185\n",
              "2020-03-07    150\n",
              "2020-03-08    163\n",
              "2020-03-09    265\n",
              "2020-03-10    184\n",
              "2020-03-11    271\n",
              "2020-03-12    802\n",
              "2020-03-13    693\n",
              "2020-03-14    733\n",
              "Name: Cases, dtype: int64"
            ]
          },
          "metadata": {},
          "execution_count": 119
        }
      ]
    },
    {
      "cell_type": "code",
      "source": [
        "len(ch_cases)"
      ],
      "metadata": {
        "colab": {
          "base_uri": "https://localhost:8080/"
        },
        "id": "IW0ac1kT5jOa",
        "outputId": "3f911d9f-6609-421c-efdd-696f7792954d"
      },
      "execution_count": 120,
      "outputs": [
        {
          "output_type": "execute_result",
          "data": {
            "text/plain": [
              "48"
            ]
          },
          "metadata": {},
          "execution_count": 120
        }
      ]
    },
    {
      "cell_type": "code",
      "source": [
        "res = ch_cases.to_numpy()\n",
        "vals = []\n",
        "for i in range(len(res)):\n",
        "  vals.append([i, res[i]])\n",
        "vals =np.array(vals)"
      ],
      "metadata": {
        "id": "nHB09hc97u--"
      },
      "execution_count": 121,
      "outputs": []
    },
    {
      "cell_type": "code",
      "source": [
        "variant1 = vals[:10]\n",
        "a, b = fit_line(variant1)\n",
        "plt.plot(x,a*x+b,  c =\"red\")\n",
        "plt.scatter(variant1[:,0], variant1[:,1],  c =\"blue\")\n",
        "plt.show()"
      ],
      "metadata": {
        "colab": {
          "base_uri": "https://localhost:8080/",
          "height": 482
        },
        "id": "GhMzC7BK5yfB",
        "outputId": "90f0aadc-e491-4f4b-a610-82ac3067b220"
      },
      "execution_count": 122,
      "outputs": [
        {
          "output_type": "stream",
          "name": "stderr",
          "text": [
            "<ipython-input-101-6d84a42716c1>:3: RuntimeWarning: divide by zero encountered in log\n",
            "  points = np.log(points)\n"
          ]
        },
        {
          "output_type": "stream",
          "name": "stdout",
          "text": [
            "y = -0.04x + 0.41\n"
          ]
        },
        {
          "output_type": "display_data",
          "data": {
            "text/plain": [
              "<Figure size 640x480 with 1 Axes>"
            ],
            "image/png": "[encoded data removed]"
          },
          "metadata": {}
        }
      ]
    },
    {
      "cell_type": "code",
      "source": [
        "findR0(a)"
      ],
      "metadata": {
        "colab": {
          "base_uri": "https://localhost:8080/"
        },
        "id": "jX-Hawym_y2S",
        "outputId": "2977bf19-559e-40a4-f9fe-0d0ebc15720d"
      },
      "execution_count": 123,
      "outputs": [
        {
          "output_type": "execute_result",
          "data": {
            "text/plain": [
              "0"
            ]
          },
          "metadata": {},
          "execution_count": 123
        }
      ]
    },
    {
      "cell_type": "code",
      "source": [
        "variant2 = vals[:20]\n",
        "a, b = fit_line(variant2)\n",
        "plt.plot(x,a*x+b,  c =\"red\")\n",
        "plt.scatter(variant2[:,0], variant2[:,1],  c =\"blue\")\n",
        "plt.show()"
      ],
      "metadata": {
        "colab": {
          "base_uri": "https://localhost:8080/",
          "height": 482
        },
        "id": "ctLs8hXO5yt5",
        "outputId": "812f5780-b1e8-490d-f767-0746004e34b9"
      },
      "execution_count": 124,
      "outputs": [
        {
          "output_type": "stream",
          "name": "stderr",
          "text": [
            "<ipython-input-101-6d84a42716c1>:3: RuntimeWarning: divide by zero encountered in log\n",
            "  points = np.log(points)\n"
          ]
        },
        {
          "output_type": "stream",
          "name": "stdout",
          "text": [
            "y = -0.14x + 0.48\n"
          ]
        },
        {
          "output_type": "display_data",
          "data": {
            "text/plain": [
              "<Figure size 640x480 with 1 Axes>"
            ],
            "image/png": "[encoded data removed]"
          },
          "metadata": {}
        }
      ]
    },
    {
      "cell_type": "code",
      "source": [
        "findR0(a)"
      ],
      "metadata": {
        "colab": {
          "base_uri": "https://localhost:8080/"
        },
        "id": "1Etdg6iX_zSK",
        "outputId": "15b0cdbe-cfdd-495e-ac2d-5f231f9f0347"
      },
      "execution_count": 125,
      "outputs": [
        {
          "output_type": "execute_result",
          "data": {
            "text/plain": [
              "0"
            ]
          },
          "metadata": {},
          "execution_count": 125
        }
      ]
    },
    {
      "cell_type": "code",
      "source": [
        "variant3 = vals[:30]\n",
        "a, b = fit_line(variant3)\n",
        "plt.plot(x,a*x+b,  c =\"red\")\n",
        "plt.scatter(variant3[:,0], variant3[:,1],  c =\"blue\")\n",
        "plt.show()"
      ],
      "metadata": {
        "colab": {
          "base_uri": "https://localhost:8080/",
          "height": 482
        },
        "id": "aF_tZTi25y_q",
        "outputId": "f6046203-ac54-4040-e6c5-6d42e47cf2c6"
      },
      "execution_count": 126,
      "outputs": [
        {
          "output_type": "stream",
          "name": "stderr",
          "text": [
            "<ipython-input-101-6d84a42716c1>:3: RuntimeWarning: divide by zero encountered in log\n",
            "  points = np.log(points)\n"
          ]
        },
        {
          "output_type": "stream",
          "name": "stdout",
          "text": [
            "y = -0.15x + 0.50\n"
          ]
        },
        {
          "output_type": "display_data",
          "data": {
            "text/plain": [
              "<Figure size 640x480 with 1 Axes>"
            ],
            "image/png": "[encoded data removed]"
          },
          "metadata": {}
        }
      ]
    },
    {
      "cell_type": "code",
      "source": [
        "findR0(a)"
      ],
      "metadata": {
        "colab": {
          "base_uri": "https://localhost:8080/"
        },
        "id": "ksTeaFfO_zzl",
        "outputId": "f5795ba5-b984-4989-d293-9da08fd00116"
      },
      "execution_count": 127,
      "outputs": [
        {
          "output_type": "execute_result",
          "data": {
            "text/plain": [
              "0"
            ]
          },
          "metadata": {},
          "execution_count": 127
        }
      ]
    },
    {
      "cell_type": "code",
      "source": [
        "variant4 = vals[:40]\n",
        "a, b = fit_line(variant4)\n",
        "plt.plot(x,a*x+b,  c =\"red\")\n",
        "plt.scatter(variant4[:,0], variant4[:,1],  c =\"blue\")\n",
        "plt.show()"
      ],
      "metadata": {
        "colab": {
          "base_uri": "https://localhost:8080/",
          "height": 482
        },
        "id": "tbAB12GE5zba",
        "outputId": "bf866e5f-f074-40c2-d3db-5be78d9c63ba"
      },
      "execution_count": 128,
      "outputs": [
        {
          "output_type": "stream",
          "name": "stderr",
          "text": [
            "<ipython-input-101-6d84a42716c1>:3: RuntimeWarning: divide by zero encountered in log\n",
            "  points = np.log(points)\n"
          ]
        },
        {
          "output_type": "stream",
          "name": "stdout",
          "text": [
            "y = 0.70x + -0.91\n"
          ]
        },
        {
          "output_type": "display_data",
          "data": {
            "text/plain": [
              "<Figure size 640x480 with 1 Axes>"
            ],
            "image/png": "[encoded data removed]"
          },
          "metadata": {}
        }
      ]
    },
    {
      "cell_type": "code",
      "source": [
        "findR0(a)"
      ],
      "metadata": {
        "colab": {
          "base_uri": "https://localhost:8080/"
        },
        "id": "-2JWWcgK_0oT",
        "outputId": "d065f8bf-e780-48c3-e158-6da70d0e7d4e"
      },
      "execution_count": 129,
      "outputs": [
        {
          "output_type": "execute_result",
          "data": {
            "text/plain": [
              "1.3044283974359827"
            ]
          },
          "metadata": {},
          "execution_count": 129
        }
      ]
    },
    {
      "cell_type": "code",
      "source": [
        "variant5 = vals\n",
        "a, b = fit_line(variant5)\n",
        "plt.plot(x,a*x+b,  c =\"red\")\n",
        "plt.scatter(variant5[:,0], variant5[:,1],  c =\"blue\")\n",
        "plt.show()"
      ],
      "metadata": {
        "colab": {
          "base_uri": "https://localhost:8080/",
          "height": 482
        },
        "id": "DX96FU5j57Ht",
        "outputId": "3525d2df-f14d-4490-8288-150981c98aef"
      },
      "execution_count": 130,
      "outputs": [
        {
          "output_type": "stream",
          "name": "stderr",
          "text": [
            "<ipython-input-101-6d84a42716c1>:3: RuntimeWarning: divide by zero encountered in log\n",
            "  points = np.log(points)\n"
          ]
        },
        {
          "output_type": "stream",
          "name": "stdout",
          "text": [
            "y = 1.38x + -2.18\n"
          ]
        },
        {
          "output_type": "display_data",
          "data": {
            "text/plain": [
              "<Figure size 640x480 with 1 Axes>"
            ],
            "image/png": "[encoded data removed]"
          },
          "metadata": {}
        }
      ]
    },
    {
      "cell_type": "code",
      "source": [
        "findR0(a)"
      ],
      "metadata": {
        "colab": {
          "base_uri": "https://localhost:8080/"
        },
        "id": "Ft9kX57w_0-l",
        "outputId": "8a03836c-fc68-420c-ac43-09c8034dfc64"
      },
      "execution_count": 131,
      "outputs": [
        {
          "output_type": "execute_result",
          "data": {
            "text/plain": [
              "1.359447314336177"
            ]
          },
          "metadata": {},
          "execution_count": 131
        }
      ]
    },
    {
      "cell_type": "markdown",
      "source": [
        "#China"
      ],
      "metadata": {
        "id": "eXFjjUwS3OtF"
      }
    },
    {
      "cell_type": "code",
      "source": [
        "df = pd.read_csv('nc_wuhan.csv', parse_dates=['dates'])"
      ],
      "metadata": {
        "id": "QbUqu_Cs_3Qi"
      },
      "execution_count": 132,
      "outputs": []
    },
    {
      "cell_type": "code",
      "source": [
        "ch_cases = pd.DataFrame()\n",
        "ch_cases['Date'] = df['dates']\n",
        "ch_cases['Cases'] = df['new_cases']\n",
        "ch_cases = ch_cases.loc[(ch_cases['Date'] < '2020-02-12')]\n",
        "ch_cases = ch_cases.dropna()\n",
        "ch_cases['Cases'] = ch_cases['Cases'].astype(int)\n",
        "ch_cases = ch_cases.set_index('Date')['Cases']\n",
        "ch_cases"
      ],
      "metadata": {
        "colab": {
          "base_uri": "https://localhost:8080/"
        },
        "id": "Pk7WHbou_36n",
        "outputId": "b08fbf2c-58a5-4551-f95d-d8ed7bb09979"
      },
      "execution_count": 133,
      "outputs": [
        {
          "output_type": "execute_result",
          "data": {
            "text/plain": [
              "Date\n",
              "2020-01-25      77\n",
              "2020-01-26      46\n",
              "2020-01-27      80\n",
              "2020-01-28     892\n",
              "2020-01-29     315\n",
              "2020-01-30     356\n",
              "2020-01-31     378\n",
              "2020-02-01     576\n",
              "2020-02-02     894\n",
              "2020-02-03    1033\n",
              "2020-02-04    1242\n",
              "2020-02-05    1967\n",
              "2020-02-06    1766\n",
              "2020-02-07    1501\n",
              "2020-02-08    1985\n",
              "2020-02-09    1379\n",
              "2020-02-10    1920\n",
              "2020-02-11    1552\n",
              "Name: Cases, dtype: int64"
            ]
          },
          "metadata": {},
          "execution_count": 133
        }
      ]
    },
    {
      "cell_type": "code",
      "source": [
        "len(ch_cases)"
      ],
      "metadata": {
        "colab": {
          "base_uri": "https://localhost:8080/"
        },
        "id": "GkTLmKpqAfRL",
        "outputId": "33445919-243c-4fc0-a25b-7cdff85396f3"
      },
      "execution_count": 134,
      "outputs": [
        {
          "output_type": "execute_result",
          "data": {
            "text/plain": [
              "18"
            ]
          },
          "metadata": {},
          "execution_count": 134
        }
      ]
    },
    {
      "cell_type": "code",
      "source": [
        "res = ch_cases.to_numpy()\n",
        "vals = []\n",
        "for i in range(len(res)):\n",
        "  vals.append([i, res[i]])\n",
        "vals =np.array(vals)"
      ],
      "metadata": {
        "id": "jxYUgGJ4_32M"
      },
      "execution_count": 135,
      "outputs": []
    },
    {
      "cell_type": "code",
      "source": [
        "variant1 = vals[:5]\n",
        "a, b = fit_line(variant1)\n",
        "plt.plot(x,a*x+b,  c =\"red\")\n",
        "plt.scatter(variant1[:,0], variant1[:,1],  c =\"blue\")\n",
        "plt.show()"
      ],
      "metadata": {
        "colab": {
          "base_uri": "https://localhost:8080/",
          "height": 482
        },
        "id": "Q112130J_3yw",
        "outputId": "650c67fe-3401-4b43-8640-ee9faa266129"
      },
      "execution_count": 136,
      "outputs": [
        {
          "output_type": "stream",
          "name": "stdout",
          "text": [
            "y = 1.59x + 4.01\n"
          ]
        },
        {
          "output_type": "stream",
          "name": "stderr",
          "text": [
            "<ipython-input-101-6d84a42716c1>:3: RuntimeWarning: divide by zero encountered in log\n",
            "  points = np.log(points)\n"
          ]
        },
        {
          "output_type": "display_data",
          "data": {
            "text/plain": [
              "<Figure size 640x480 with 1 Axes>"
            ],
            "image/png": "[encoded data removed]"
          },
          "metadata": {}
        }
      ]
    },
    {
      "cell_type": "code",
      "source": [
        "findR0(a)"
      ],
      "metadata": {
        "colab": {
          "base_uri": "https://localhost:8080/"
        },
        "id": "cIxCJJce_3uq",
        "outputId": "48a590c4-03db-49cc-e316-a56249281ae8"
      },
      "execution_count": 137,
      "outputs": [
        {
          "output_type": "execute_result",
          "data": {
            "text/plain": [
              "1.3709900791909968"
            ]
          },
          "metadata": {},
          "execution_count": 137
        }
      ]
    },
    {
      "cell_type": "code",
      "source": [
        "variant2 = vals[:10]\n",
        "a, b = fit_line(variant2)\n",
        "plt.plot(x,a*x+b,  c =\"red\")\n",
        "plt.scatter(variant2[:,0], variant2[:,1],  c =\"blue\")\n",
        "plt.show()"
      ],
      "metadata": {
        "colab": {
          "base_uri": "https://localhost:8080/",
          "height": 482
        },
        "id": "xFem4_6j_3ry",
        "outputId": "76503755-de74-41c8-a9ce-0f469bd0ac3e"
      },
      "execution_count": 138,
      "outputs": [
        {
          "output_type": "stream",
          "name": "stdout",
          "text": [
            "y = 1.23x + 4.12\n"
          ]
        },
        {
          "output_type": "stream",
          "name": "stderr",
          "text": [
            "<ipython-input-101-6d84a42716c1>:3: RuntimeWarning: divide by zero encountered in log\n",
            "  points = np.log(points)\n"
          ]
        },
        {
          "output_type": "display_data",
          "data": {
            "text/plain": [
              "<Figure size 640x480 with 1 Axes>"
            ],
            "image/png": "[encoded data removed]"
          },
          "metadata": {}
        }
      ]
    },
    {
      "cell_type": "code",
      "source": [
        "findR0(a)"
      ],
      "metadata": {
        "colab": {
          "base_uri": "https://localhost:8080/"
        },
        "id": "SuK1DxBtA_PK",
        "outputId": "0935469a-1b9a-43cc-f004-081802087638"
      },
      "execution_count": 139,
      "outputs": [
        {
          "output_type": "execute_result",
          "data": {
            "text/plain": [
              "1.3499342746138496"
            ]
          },
          "metadata": {},
          "execution_count": 139
        }
      ]
    },
    {
      "cell_type": "code",
      "source": [
        "variant3 = vals[:15]\n",
        "a, b = fit_line(variant4)\n",
        "plt.plot(x,a*x+b,  c =\"red\")\n",
        "plt.scatter(variant4[:,0], variant4[:,1],  c =\"blue\")\n",
        "plt.show()"
      ],
      "metadata": {
        "colab": {
          "base_uri": "https://localhost:8080/",
          "height": 482
        },
        "id": "aCnc4uWeBAqr",
        "outputId": "23ee7617-bf81-4d96-9708-8ecf332e2e9a"
      },
      "execution_count": 140,
      "outputs": [
        {
          "output_type": "stream",
          "name": "stderr",
          "text": [
            "<ipython-input-101-6d84a42716c1>:3: RuntimeWarning: divide by zero encountered in log\n",
            "  points = np.log(points)\n"
          ]
        },
        {
          "output_type": "stream",
          "name": "stdout",
          "text": [
            "y = 0.70x + -0.91\n"
          ]
        },
        {
          "output_type": "display_data",
          "data": {
            "text/plain": [
              "<Figure size 640x480 with 1 Axes>"
            ],
            "image/png": "[encoded data removed]"
          },
          "metadata": {}
        }
      ]
    },
    {
      "cell_type": "code",
      "source": [
        "findR0(a)"
      ],
      "metadata": {
        "colab": {
          "base_uri": "https://localhost:8080/"
        },
        "id": "Zp1V07NhBDWE",
        "outputId": "7e340225-9263-4eb8-82df-218c313b826e"
      },
      "execution_count": 141,
      "outputs": [
        {
          "output_type": "execute_result",
          "data": {
            "text/plain": [
              "1.3044283974359827"
            ]
          },
          "metadata": {},
          "execution_count": 141
        }
      ]
    },
    {
      "cell_type": "code",
      "source": [
        "variant4 = vals\n",
        "a, b = fit_line(variant4)\n",
        "plt.plot(x,a*x+b,  c =\"red\")\n",
        "plt.scatter(variant4[:,0], variant4[:,1],  c =\"blue\")\n",
        "plt.show()"
      ],
      "metadata": {
        "colab": {
          "base_uri": "https://localhost:8080/",
          "height": 482
        },
        "id": "cbSHjogBBDNr",
        "outputId": "5560a257-9ecc-46ce-cf6f-efcb2bf7f912"
      },
      "execution_count": 142,
      "outputs": [
        {
          "output_type": "stream",
          "name": "stdout",
          "text": [
            "y = 1.25x + 4.13\n"
          ]
        },
        {
          "output_type": "stream",
          "name": "stderr",
          "text": [
            "<ipython-input-101-6d84a42716c1>:3: RuntimeWarning: divide by zero encountered in log\n",
            "  points = np.log(points)\n"
          ]
        },
        {
          "output_type": "display_data",
          "data": {
            "text/plain": [
              "<Figure size 640x480 with 1 Axes>"
            ],
            "image/png": "[encoded data removed]"
          },
          "metadata": {}
        }
      ]
    },
    {
      "cell_type": "code",
      "source": [
        "findR0(a)"
      ],
      "metadata": {
        "colab": {
          "base_uri": "https://localhost:8080/"
        },
        "id": "-tXo7zHFBGBi",
        "outputId": "164ffe85-3885-4b98-e7f0-f80bec9f376b"
      },
      "execution_count": 143,
      "outputs": [
        {
          "output_type": "execute_result",
          "data": {
            "text/plain": [
              "1.3513156841276956"
            ]
          },
          "metadata": {},
          "execution_count": 143
        }
      ]
    }
  ]
}